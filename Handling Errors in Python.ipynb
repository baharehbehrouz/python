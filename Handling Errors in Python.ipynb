{
 "cells": [
  {
   "cell_type": "markdown",
   "id": "58891d4b-aacb-4de5-9df2-ad43173d4255",
   "metadata": {},
   "source": [
    "# Handling Errors in Python\n",
    "\n",
    "## 1️⃣ How to Manage Common Errors in Python?\n",
    "Errors (also called **exceptions**) can occur for various reasons in Python.  \n",
    "To write robust and error-free code, we need to **understand** and **handle** these errors properly.\n",
    "\n",
    "---\n",
    "\n",
    "## 2️⃣ Syntax Errors 🛑\n",
    "\n",
    "### What is a Syntax Error?\n",
    "A **SyntaxError** happens when Python cannot understand the code due to incorrect syntax.\n",
    "\n",
    "### Example:\n"
   ]
  },
  {
   "cell_type": "code",
   "execution_count": 2,
   "id": "a61c1e3b-1e0b-4663-9bea-1d47c7cd2699",
   "metadata": {},
   "outputs": [
    {
     "ename": "SyntaxError",
     "evalue": "incomplete input (2580143736.py, line 2)",
     "output_type": "error",
     "traceback": [
      "\u001b[1;36m  Cell \u001b[1;32mIn[2], line 2\u001b[1;36m\u001b[0m\n\u001b[1;33m    print(\"Hello, world!\"\u001b[0m\n\u001b[1;37m                         ^\u001b[0m\n\u001b[1;31mSyntaxError\u001b[0m\u001b[1;31m:\u001b[0m incomplete input\n"
     ]
    }
   ],
   "source": [
    "# Syntax Error: Missing closing parenthesis\n",
    "print(\"Hello, world!\"\n"
   ]
  },
  {
   "cell_type": "markdown",
   "id": "32ab9dc6-6d96-4e5d-8797-65602706645b",
   "metadata": {},
   "source": [
    "### How to Fix It?\r\n",
    "✅ Make sure that all parentheses, brackets, and quotes are properly closed.\r\n",
    "✅ Follow Python's correct syntax rules.\r\n"
   ]
  },
  {
   "cell_type": "markdown",
   "id": "8a8392a9-af9f-4e08-a9da-53de5b84ae98",
   "metadata": {},
   "source": [
    "## 3️⃣ Runtime Errors 🚨\r\n",
    "\r\n",
    "### What is a Runtime Error?\r\n",
    "A **Runtime Error** happens while the program is running. The syntax is correct,  \r\n",
    "but the program encounters an issue during execution.\r\n",
    "\r\n",
    "### Example: Division by Zero\r\n"
   ]
  },
  {
   "cell_type": "code",
   "execution_count": 3,
   "id": "6278a9aa-469e-4a5b-89d0-f2a7799d195d",
   "metadata": {},
   "outputs": [
    {
     "ename": "ZeroDivisionError",
     "evalue": "division by zero",
     "output_type": "error",
     "traceback": [
      "\u001b[1;31m---------------------------------------------------------------------------\u001b[0m",
      "\u001b[1;31mZeroDivisionError\u001b[0m                         Traceback (most recent call last)",
      "Cell \u001b[1;32mIn[3], line 1\u001b[0m\n\u001b[1;32m----> 1\u001b[0m x \u001b[38;5;241m=\u001b[39m \u001b[38;5;241m5\u001b[39m \u001b[38;5;241m/\u001b[39m \u001b[38;5;241m0\u001b[39m\n",
      "\u001b[1;31mZeroDivisionError\u001b[0m: division by zero"
     ]
    }
   ],
   "source": [
    "x = 5 / 0  # This will cause a ZeroDivisionError\n"
   ]
  },
  {
   "cell_type": "markdown",
   "id": "3cc50905-17e3-44f3-bcc6-288f6e2d80ba",
   "metadata": {},
   "source": [
    "### Example: Using an Undefined Variable\n"
   ]
  },
  {
   "cell_type": "code",
   "execution_count": 6,
   "id": "61f77a06-8ebe-4f8b-bb4e-3ad01da6f5cb",
   "metadata": {},
   "outputs": [
    {
     "ename": "NameError",
     "evalue": "name 'y' is not defined",
     "output_type": "error",
     "traceback": [
      "\u001b[1;31m---------------------------------------------------------------------------\u001b[0m",
      "\u001b[1;31mNameError\u001b[0m                                 Traceback (most recent call last)",
      "Cell \u001b[1;32mIn[6], line 1\u001b[0m\n\u001b[1;32m----> 1\u001b[0m \u001b[38;5;28mprint\u001b[39m(y)\n",
      "\u001b[1;31mNameError\u001b[0m: name 'y' is not defined"
     ]
    }
   ],
   "source": [
    "print(y)  # NameError: y is not defined\n"
   ]
  },
  {
   "cell_type": "markdown",
   "id": "03034acd-b9c8-4c93-ad6e-a64429fc58fc",
   "metadata": {},
   "source": [
    "### How to Fix It?\n",
    "✅ **Check for division by zero before performing calculations.**  \n",
    "✅ **Ensure all variables are defined before using them.**\n"
   ]
  },
  {
   "cell_type": "markdown",
   "id": "c832c01a-5ec0-4d64-8c24-aa9c8695154c",
   "metadata": {},
   "source": [
    "## 4️⃣ Using try-except to Handle Errors 🛠️\r\n",
    "\r\n",
    "We can **catch errors** using the `try-except` block to prevent our program from crashing.\r\n",
    "\r\n",
    "### Example: Handling Division by Zero\r\n"
   ]
  },
  {
   "cell_type": "code",
   "execution_count": 8,
   "id": "7a383130-76f7-49fc-9afc-d13b806d0794",
   "metadata": {},
   "outputs": [
    {
     "name": "stdout",
     "output_type": "stream",
     "text": [
      "Error: Cannot divide by zero!\n"
     ]
    }
   ],
   "source": [
    "try:\n",
    "    x = 5 / 0\n",
    "except ZeroDivisionError:\n",
    "    print(\"Error: Cannot divide by zero!\")\n"
   ]
  },
  {
   "cell_type": "markdown",
   "id": "7e9e0d8c-f22e-477a-9e98-e1345236ff27",
   "metadata": {},
   "source": [
    "### Example: Handling Multiple Errors\n"
   ]
  },
  {
   "cell_type": "code",
   "execution_count": 9,
   "id": "802a9b31-9db9-4183-a33e-a4e9bd2f40ae",
   "metadata": {},
   "outputs": [
    {
     "name": "stdout",
     "output_type": "stream",
     "text": [
      "Error: Cannot convert to an integer.\n"
     ]
    }
   ],
   "source": [
    "try:\n",
    "    num = int(\"abc\")  # This will cause a ValueError\n",
    "    result = 10 / 0   # This will cause a ZeroDivisionError\n",
    "except ValueError:\n",
    "    print(\"Error: Cannot convert to an integer.\")\n",
    "except ZeroDivisionError:\n",
    "    print(\"Error: Cannot divide by zero.\")\n"
   ]
  },
  {
   "cell_type": "markdown",
   "id": "bb0fe37e-82c0-46de-bd21-f2c93eefef7a",
   "metadata": {},
   "source": [
    "### How to Handle All Errors?\n",
    "You can use a **generic except block** to catch any error:\n"
   ]
  },
  {
   "cell_type": "markdown",
   "id": "eb84e4af-292d-4a60-8d3e-499f30ecf2ee",
   "metadata": {},
   "source": [
    "ValueError، IndexError، TypeError، ZeroDivisionError"
   ]
  },
  {
   "cell_type": "code",
   "execution_count": 10,
   "id": "1be14bd9-309a-4f44-ba43-6e81f78f0872",
   "metadata": {},
   "outputs": [
    {
     "name": "stdout",
     "output_type": "stream",
     "text": [
      "An error occurred: division by zero\n"
     ]
    }
   ],
   "source": [
    "try:\n",
    "    x = 5 / 0\n",
    "except Exception as e:\n",
    "    print(f\"An error occurred: {e}\")\n"
   ]
  },
  {
   "cell_type": "markdown",
   "id": "1cebfa78-0edb-457f-a205-0b88ef9f8df5",
   "metadata": {},
   "source": [
    " ## Using else in Exception Handling\n",
    "### 🔹 The else block runs only if no exceptions occur in the try block.\n",
    "### 🔹 This is useful when you want to execute some code only when everything goes smoothly."
   ]
  },
  {
   "cell_type": "code",
   "execution_count": 12,
   "id": "9932c0e0-639a-4018-b02d-43b3708bb557",
   "metadata": {},
   "outputs": [
    {
     "name": "stdout",
     "output_type": "stream",
     "text": [
      "❌ File not found!\n",
      "📌 Closing file (if opened).\n"
     ]
    },
    {
     "ename": "NameError",
     "evalue": "name 'file' is not defined",
     "output_type": "error",
     "traceback": [
      "\u001b[1;31m---------------------------------------------------------------------------\u001b[0m",
      "\u001b[1;31mNameError\u001b[0m                                 Traceback (most recent call last)",
      "Cell \u001b[1;32mIn[12], line 9\u001b[0m\n\u001b[0;32m      7\u001b[0m \u001b[38;5;28;01mfinally\u001b[39;00m:\n\u001b[0;32m      8\u001b[0m     \u001b[38;5;28mprint\u001b[39m(\u001b[38;5;124m\"\u001b[39m\u001b[38;5;124m📌 Closing file (if opened).\u001b[39m\u001b[38;5;124m\"\u001b[39m)\n\u001b[1;32m----> 9\u001b[0m     file\u001b[38;5;241m.\u001b[39mclose()\n",
      "\u001b[1;31mNameError\u001b[0m: name 'file' is not defined"
     ]
    }
   ],
   "source": [
    "try:\n",
    "    file = open(\"example.txt\", \"r\")  # Try opening a file\n",
    "    content = file.read()\n",
    "    print(content)\n",
    "except FileNotFoundError:\n",
    "    print(\"❌ File not found!\")\n",
    "finally:\n",
    "    print(\"📌 Closing file (if opened).\")\n",
    "    file.close()  # Ensures the file is closed\n"
   ]
  },
  {
   "cell_type": "code",
   "execution_count": 1,
   "id": "c2f8d306-3e59-46c1-86e4-0f084e1d07c7",
   "metadata": {},
   "outputs": [
    {
     "name": "stdin",
     "output_type": "stream",
     "text": [
      "Enter a number:  4\n"
     ]
    },
    {
     "name": "stdout",
     "output_type": "stream",
     "text": [
      "✅ Division successful: 2.5\n",
      "📌 Execution completed.\n"
     ]
    }
   ],
   "source": [
    "try:\n",
    "    num = int(input(\"Enter a number: \"))\n",
    "    result = 10 / num\n",
    "except ZeroDivisionError:\n",
    "    print(\"❌ Cannot divide by zero!\")\n",
    "except ValueError:\n",
    "    print(\"❌ Invalid input! Enter a number.\")\n",
    "else:\n",
    "    print(f\"✅ Division successful: {result}\")\n",
    "finally:\n",
    "    print(\"📌 Execution completed.\")\n"
   ]
  },
  {
   "cell_type": "markdown",
   "id": "980b0223-7e86-4e19-aa03-32b19bbb7fd6",
   "metadata": {},
   "source": [
    "## Summary:\n",
    "✅ **Syntax Errors** occur when Python cannot interpret the code.  \n",
    "✅ **Runtime Errors** occur while the program is running.  \n",
    "✅ **Use try-except** to catch and handle errors gracefully.\n"
   ]
  }
 ],
 "metadata": {
  "kernelspec": {
   "display_name": "Python 3 (ipykernel)",
   "language": "python",
   "name": "python3"
  },
  "language_info": {
   "codemirror_mode": {
    "name": "ipython",
    "version": 3
   },
   "file_extension": ".py",
   "mimetype": "text/x-python",
   "name": "python",
   "nbconvert_exporter": "python",
   "pygments_lexer": "ipython3",
   "version": "3.11.4"
  }
 },
 "nbformat": 4,
 "nbformat_minor": 5
}
