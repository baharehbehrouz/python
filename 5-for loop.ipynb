{
 "cells": [
  {
   "cell_type": "markdown",
   "metadata": {
    "collapsed": true,
    "jupyter": {
     "outputs_hidden": true
    }
   },
   "source": [
    "# for loops\n",
    "\n",
    "A `for` loop acts as an iteration in Python that goes through items that are in a sequence (or any other iterable form). Objects we have already covered and can apply this iteration to are strings, lists, tuples and preloaded iterations for dictionaries, such as keys and values.\n",
    "\n",
    "\"Classical\" numerical loops, as known by C and C++, have a loop variable. This is started with a start value and this value is changed after each run of the code block. Mostly it is increased or decreased by a certain value (e.g. 1) until a certain target value is reached. This type of loop is also called a counting loop. This is due to the fact that the loop variable, and therefore the start value, end value, and step size, must be numeric.\n",
    "\n",
    "In the example, we see a for loop in C that prints the numbers from 1 to 10: \n",
    "    \n",
    "    for(i = 1; i <= 10; i+)\n",
    "       printf(\"i: %d\\n\", i);\n",
    "\n",
    "This form of the loop does not exist directly in Python. The version here is comparable to a *foreach* loop, which you might be familiar with from other languages.\n",
    "\n",
    "We have already learned a little bit about the for statement in Python in previous lessons. Still, let's formalize it again to understand it better.\n",
    "\n",
    "Here is a general form for what a for loop looks like in Python:\n",
    "\n",
    "    for Item in Object:\n",
    "        Statement to do something\n",
    "        \n",
    "The name used for the item is entirely up to the coder. This allows us to choose the name that we feel is most appropriate. The specified item name can then be used as a reference within the loops. For example, if we want to perform an if statement on the item.\n",
    "\n",
    "Continuing with some examples of for loops in combination with a variety of object types. We start simple and increase the level continuously.\n",
    "\n",
    "## Lists"
   ]
  },
  {
   "cell_type": "code",
   "execution_count": 4,
   "metadata": {},
   "outputs": [
    {
     "name": "stdout",
     "output_type": "stream",
     "text": [
      "[4, 6, 8, 10, 12, 14, 16, 18]\n"
     ]
    }
   ],
   "source": [
    "print(list(range(4,20,2)))\n",
    "\n",
    "# range(start,end,step)\n",
    "\n",
    "\n",
    "# stra=\"12345457487446677\"\n",
    "# print(stra[::4])"
   ]
  },
  {
   "cell_type": "code",
   "execution_count": 6,
   "metadata": {},
   "outputs": [
    {
     "name": "stdout",
     "output_type": "stream",
     "text": [
      "*\n",
      "4\n",
      "*\n",
      "4\n",
      "*\n",
      "4\n",
      "*\n",
      "4\n",
      "*\n",
      "4\n",
      "*\n",
      "4\n",
      "*\n",
      "4\n",
      "*\n",
      "4\n"
     ]
    }
   ],
   "source": [
    "\n",
    "for a in range(2,10):\n",
    "    print(\"*\")\n",
    "    if 2>0:\n",
    "        print(4)\n",
    "\n",
    "\n",
    "\n",
    "    "
   ]
  },
  {
   "cell_type": "code",
   "execution_count": 7,
   "metadata": {},
   "outputs": [],
   "source": [
    "# How we can automate such lists we will learn in the next lesson\n",
    "l = [1,2,3,4,5,6,7,8,9,10]"
   ]
  },
  {
   "cell_type": "code",
   "execution_count": 2,
   "metadata": {},
   "outputs": [
    {
     "name": "stdout",
     "output_type": "stream",
     "text": [
      "1\n",
      "2\n",
      "3\n",
      "4\n",
      "5\n",
      "6\n",
      "7\n",
      "8\n",
      "9\n",
      "10\n"
     ]
    }
   ],
   "source": [
    "for num in l:\n",
    "    print(num)"
   ]
  },
  {
   "cell_type": "markdown",
   "metadata": {},
   "source": [
    "Good! Hopefully this makes sense to you. Now let's include an if statement to check for even numbers. To do this, we'll introduce another new concept - the modulo.\n",
    "\n",
    "## Modulo\n",
    "\n",
    "The modulo allows us to get the remainder of a division by using %. For example:"
   ]
  },
  {
   "cell_type": "code",
   "execution_count": 3,
   "metadata": {},
   "outputs": [
    {
     "data": {
      "text/plain": [
       "2"
      ]
     },
     "execution_count": 3,
     "metadata": {},
     "output_type": "execute_result"
    }
   ],
   "source": [
    "17 % 5"
   ]
  },
  {
   "cell_type": "markdown",
   "metadata": {},
   "source": [
    "This makes sense since 17 divided by 5 has as result 3 with a remainder of 2. Some more short examples:"
   ]
  },
  {
   "cell_type": "code",
   "execution_count": 4,
   "metadata": {},
   "outputs": [
    {
     "data": {
      "text/plain": [
       "1"
      ]
     },
     "execution_count": 4,
     "metadata": {},
     "output_type": "execute_result"
    }
   ],
   "source": [
    "10 % 3"
   ]
  },
  {
   "cell_type": "code",
   "execution_count": 5,
   "metadata": {},
   "outputs": [
    {
     "data": {
      "text/plain": [
       "4"
      ]
     },
     "execution_count": 5,
     "metadata": {},
     "output_type": "execute_result"
    }
   ],
   "source": [
    "18 % 7"
   ]
  },
  {
   "cell_type": "code",
   "execution_count": 6,
   "metadata": {},
   "outputs": [
    {
     "data": {
      "text/plain": [
       "0"
      ]
     },
     "execution_count": 6,
     "metadata": {},
     "output_type": "execute_result"
    }
   ],
   "source": [
    "4 % 2"
   ]
  },
  {
   "cell_type": "markdown",
   "metadata": {},
   "source": [
    "If a number is completely divisible and has no remainder, the result of modulo is 0. We can take advantage of this to test whether a number is an integer. \n",
    "\n",
    "Back to the for loop!\n",
    "\n",
    "## Even numbers only"
   ]
  },
  {
   "cell_type": "code",
   "execution_count": 7,
   "metadata": {},
   "outputs": [
    {
     "name": "stdout",
     "output_type": "stream",
     "text": [
      "2\n",
      "4\n",
      "6\n",
      "8\n",
      "10\n"
     ]
    }
   ],
   "source": [
    "for num in l:\n",
    "    if num % 2 == 0:\n",
    "        print(num)"
   ]
  },
  {
   "cell_type": "markdown",
   "metadata": {},
   "source": [
    "We can also include an else statement:"
   ]
  },
  {
   "cell_type": "code",
   "execution_count": 8,
   "metadata": {},
   "outputs": [
    {
     "name": "stdout",
     "output_type": "stream",
     "text": [
      "uneven\n",
      "2\n",
      "uneven\n",
      "4\n",
      "uneven\n",
      "6\n",
      "uneven\n",
      "8\n",
      "uneven\n",
      "10\n"
     ]
    }
   ],
   "source": [
    "for num in l:\n",
    "    if num % 2 == 0:\n",
    "        print(num)\n",
    "    else:\n",
    "        print('uneven')"
   ]
  },
  {
   "cell_type": "markdown",
   "metadata": {},
   "source": [
    "## Running Sum\n",
    "\n",
    "Another common idea is to capture some kind of running sum during a for loop. For example: a for loop that sums a list."
   ]
  },
  {
   "cell_type": "code",
   "execution_count": 9,
   "metadata": {},
   "outputs": [
    {
     "name": "stdout",
     "output_type": "stream",
     "text": [
      "55\n"
     ]
    }
   ],
   "source": [
    "# Start der Summe bei 0\n",
    "l_sum = 0\n",
    "\n",
    "for num in l:\n",
    "    l_sum = l_sum + num\n",
    "    \n",
    "print(l_sum)"
   ]
  },
  {
   "cell_type": "markdown",
   "metadata": {},
   "source": [
    "Wow! Look at the above example until you understand exactly what is happening! By the way, we could have solved this with a +=. Look here:"
   ]
  },
  {
   "cell_type": "code",
   "execution_count": 10,
   "metadata": {},
   "outputs": [
    {
     "name": "stdout",
     "output_type": "stream",
     "text": [
      "55\n"
     ]
    }
   ],
   "source": [
    "# Start der Summe bei 0\n",
    "l_sum = 0\n",
    "\n",
    "for num in l:\n",
    "    l_sum += num\n",
    "    \n",
    "print(l_sum)"
   ]
  },
  {
   "cell_type": "code",
   "execution_count": null,
   "metadata": {},
   "outputs": [],
   "source": [
    "+=\n",
    "-=\n",
    "*=\n",
    "/=\n"
   ]
  },
  {
   "cell_type": "markdown",
   "metadata": {},
   "source": [
    "## Strings\n",
    "\n",
    "We've already used for loops for lists, but what about strings? Recall that strings are a sequence. When we iterate over them, we access every item in that string."
   ]
  },
  {
   "cell_type": "code",
   "execution_count": 11,
   "metadata": {},
   "outputs": [
    {
     "name": "stdout",
     "output_type": "stream",
     "text": [
      "T\n",
      "h\n",
      "i\n",
      "s\n",
      " \n",
      "i\n",
      "s\n",
      " \n",
      "a\n",
      " \n",
      "s\n",
      "t\n",
      "r\n",
      "i\n",
      "n\n",
      "g\n",
      "!\n",
      "\"\n"
     ]
    }
   ],
   "source": [
    "for sign in 'This is a string!\"':\n",
    "    print(sign)"
   ]
  },
  {
   "cell_type": "code",
   "execution_count": 5,
   "metadata": {},
   "outputs": [
    {
     "name": "stdout",
     "output_type": "stream",
     "text": [
      "nartgrdrgdfgdfgdfgdffffffffffffffffme\n"
     ]
    }
   ],
   "source": [
    "\n",
    "print()\n"
   ]
  },
  {
   "cell_type": "markdown",
   "metadata": {},
   "source": [
    "## Tuples\n",
    "\n",
    "Next, let's look at tuples as well:"
   ]
  },
  {
   "cell_type": "code",
   "execution_count": 6,
   "metadata": {},
   "outputs": [
    {
     "name": "stdout",
     "output_type": "stream",
     "text": [
      "1\n",
      "2\n",
      "3\n",
      "4\n",
      "5\n"
     ]
    }
   ],
   "source": [
    "tup = (1,2,3,4,5)\n",
    "\n",
    "for t in tup:\n",
    "    print(t)"
   ]
  },
  {
   "cell_type": "markdown",
   "metadata": {},
   "source": [
    "Tuples provide a special quality when it comes to for loops. When you run an iteration over a sequence that includes tuples, the tuple itself becomes the item. This is an example of incrementally unpacking tuples. By running the for loop, we will unpack the individual tuples within the sequence and can access the individual items within the tuple itself."
   ]
  },
  {
   "cell_type": "code",
   "execution_count": 7,
   "metadata": {},
   "outputs": [],
   "source": [
    "l=[2,5,7,9]"
   ]
  },
  {
   "cell_type": "code",
   "execution_count": 11,
   "metadata": {},
   "outputs": [],
   "source": [
    "l = [(2,4,4),(6,8,7),(10,12,7)]"
   ]
  },
  {
   "cell_type": "code",
   "execution_count": 10,
   "metadata": {},
   "outputs": [
    {
     "name": "stdout",
     "output_type": "stream",
     "text": [
      "(2, 4)\n",
      "(6, 8)\n",
      "(10, 12)\n"
     ]
    }
   ],
   "source": [
    "for tup in l:\n",
    "    print(tup)"
   ]
  },
  {
   "cell_type": "code",
   "execution_count": 13,
   "metadata": {},
   "outputs": [
    {
     "name": "stdout",
     "output_type": "stream",
     "text": [
      "4\n",
      "8\n",
      "12\n"
     ]
    }
   ],
   "source": [
    "# Now with unpacking\n",
    "for (t1,t2,t3) in l:\n",
    "    print(t2)"
   ]
  },
  {
   "cell_type": "markdown",
   "metadata": {},
   "source": [
    "Cool. With tuples in a sequence, we can access the items inside the tuples by unpacking them. The reason this is important is that many objects output their iterations in the form of tuples. Let's look at iterations for dictionaries next to understand this in more detail!\n",
    "\n",
    "## Dictionaires"
   ]
  },
  {
   "cell_type": "code",
   "execution_count": 1,
   "metadata": {},
   "outputs": [],
   "source": [
    "d = {'k1':1,'k2':2,'k3':3}"
   ]
  },
  {
   "cell_type": "code",
   "execution_count": 2,
   "metadata": {},
   "outputs": [
    {
     "name": "stdout",
     "output_type": "stream",
     "text": [
      "k1\n",
      "k2\n",
      "k3\n"
     ]
    }
   ],
   "source": [
    "for item in d:\n",
    "    print(item)"
   ]
  },
  {
   "cell_type": "markdown",
   "metadata": {},
   "source": [
    "Have you noticed how this only outputs the keys? So how can we get the values? Or how do we get both keys and values?\n",
    "\n",
    "### Python 2: Use .iteritems() to do iteration\n",
    "\n",
    "In Python 2, you should use .iteritems() to iterate through keys and values. This creates a generator (which we'll get into more detail with later in the course) that generates Keys and Values of our dictionary. This is what it looks like in practice:"
   ]
  },
  {
   "cell_type": "code",
   "execution_count": 3,
   "metadata": {},
   "outputs": [
    {
     "ename": "AttributeError",
     "evalue": "'dict' object has no attribute 'iteritems'",
     "output_type": "error",
     "traceback": [
      "\u001b[1;31m---------------------------------------------------------------------------\u001b[0m",
      "\u001b[1;31mAttributeError\u001b[0m                            Traceback (most recent call last)",
      "Cell \u001b[1;32mIn[3], line 2\u001b[0m\n\u001b[0;32m      1\u001b[0m \u001b[38;5;66;03m# Generator erstellen\u001b[39;00m\n\u001b[1;32m----> 2\u001b[0m d\u001b[38;5;241m.\u001b[39miteritems()\n",
      "\u001b[1;31mAttributeError\u001b[0m: 'dict' object has no attribute 'iteritems'"
     ]
    }
   ],
   "source": [
    "# Generator erstellen\n",
    "d.iteritems()"
   ]
  },
  {
   "cell_type": "markdown",
   "metadata": {},
   "source": [
    "Calling the iteritems() method returns a list of tuples. We can now iterate through them as we did in previous examples."
   ]
  },
  {
   "cell_type": "code",
   "execution_count": 5,
   "metadata": {},
   "outputs": [
    {
     "ename": "AttributeError",
     "evalue": "'dict' object has no attribute 'iteritems'",
     "output_type": "error",
     "traceback": [
      "\u001b[1;31m---------------------------------------------------------------------------\u001b[0m",
      "\u001b[1;31mAttributeError\u001b[0m                            Traceback (most recent call last)",
      "Cell \u001b[1;32mIn[5], line 2\u001b[0m\n\u001b[0;32m      1\u001b[0m \u001b[38;5;66;03m# Generator erstellen\u001b[39;00m\n\u001b[1;32m----> 2\u001b[0m \u001b[38;5;28;01mfor\u001b[39;00m k,v \u001b[38;5;129;01min\u001b[39;00m d\u001b[38;5;241m.\u001b[39miteritems():\n\u001b[0;32m      3\u001b[0m     \u001b[38;5;28mprint\u001b[39m(k)\n\u001b[0;32m      4\u001b[0m     \u001b[38;5;28mprint\u001b[39m(v)\n",
      "\u001b[1;31mAttributeError\u001b[0m: 'dict' object has no attribute 'iteritems'"
     ]
    }
   ],
   "source": [
    "# Generator erstellen\n",
    "for k,v in d.iteritems():\n",
    "    print(k)\n",
    "    print(v)"
   ]
  },
  {
   "cell_type": "markdown",
   "metadata": {},
   "source": [
    "### Python 3: items()\n",
    "\n",
    "In Python 3, you should use .items() to iterate through keys and values of a dictionary. For example:"
   ]
  },
  {
   "cell_type": "code",
   "execution_count": 6,
   "metadata": {},
   "outputs": [
    {
     "name": "stdout",
     "output_type": "stream",
     "text": [
      "k1\n",
      "1\n",
      "k2\n",
      "2\n",
      "k3\n",
      "3\n"
     ]
    }
   ],
   "source": [
    "# Für Python 3\n",
    "for k,v in d.items():\n",
    "    print(k)\n",
    "    print(v)"
   ]
  },
  {
   "cell_type": "markdown",
   "metadata": {},
   "source": [
    "You may be wondering how this could work in Python 2. That's because generators were introduced in the early years of Python. (We'll look at generators in more detail in a following lesson, as I said. The basic principle is that they do not store data in memory, but simply output it as it passes through an iterable item.)\n",
    "\n",
    "Originally, items() formed a list of tuples and returned them. This could potentially take up a lot of memory.\n",
    "\n",
    "Then generators were introduced and the method was reworked as an iterator-generator method called iteritems(). The original was retained for backwards compatibility.\n",
    "\n",
    "One of the changes in Python 3 is that items() now outputs iterators there and the list is never fully generated. The iteritems() method is also obsolete, as items() in Python 2 now works like iteritems().\n",
    "\n",
    "## Conclusion\n",
    "\n",
    "We have learned how to use for loops to iterate through tuples, lists, strings, and dictionaries. It will become an important tool for us, so it is important that you fully understand it."
   ]
  },
  {
   "cell_type": "code",
   "execution_count": null,
   "metadata": {},
   "outputs": [],
   "source": []
  },
  {
   "cell_type": "code",
   "execution_count": null,
   "metadata": {},
   "outputs": [],
   "source": []
  }
 ],
 "metadata": {
  "kernelspec": {
   "display_name": "Python 3 (ipykernel)",
   "language": "python",
   "name": "python3"
  },
  "language_info": {
   "codemirror_mode": {
    "name": "ipython",
    "version": 3
   },
   "file_extension": ".py",
   "mimetype": "text/x-python",
   "name": "python",
   "nbconvert_exporter": "python",
   "pygments_lexer": "ipython3",
   "version": "3.12.4"
  },
  "vscode": {
   "interpreter": {
    "hash": "b6f32b27ef9c6af4eadce4d8c206da46e02e62476a2cc472d572e1930ebdcb4b"
   }
  }
 },
 "nbformat": 4,
 "nbformat_minor": 4
}
