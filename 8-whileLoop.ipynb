{
 "cells": [
  {
   "cell_type": "markdown",
   "metadata": {
    "collapsed": true,
    "jupyter": {
     "outputs_hidden": true
    }
   },
   "source": [
    "# while loops\n",
    "\n",
    "The `while` statement in Python is one of the most general ways to perform iteration. A while statement will repeat a single or group of statements (i.e. a block of code) as long as its condition is `true`. The reason it is called a 'loop' is that statements are repeated until their condition is no longer met.\n",
    "\n",
    "The general form of a while loop:\n",
    "\n",
    "    while test:\n",
    "        code statement\n",
    "    else\n",
    "        final code statement\n",
    "        \n",
    "We can also use the `while` loop in Python to recreate the \"classic\" loop form we talked about in the previous chapter. Here is a brief recap of the loop form as used in C, for example:\n",
    "\n",
    "    for(i = 1; i <= 10; i+)\n",
    "       printf(\"i: %d\\n\", i);\n",
    "        \n",
    "In Python, we need to define the count variable *i* in advance and then take it into the code block of the `while` loop to ensure functionality:\n",
    "\n",
    "    i = 1\n",
    "    while i < 10:\n",
    "        print(i)\n",
    "        i+=1\n",
    "        \n",
    "Looking at it a bit more theoretically, we can say there are a total of 3 types of loops in programming languages:\n",
    "1. counter-controlled loops - do not exist in Python, but can be emulated with an `while` loop, as shown in the example.\n",
    "2. condition-controlled loops - correspond to `while` loops in Python\n",
    "3. collection-controlled loops - correspond to `for` loops in Python.\n",
    "\n",
    "Let and go through some simple examples of `while` loops in Python:"
   ]
  },
  {
   "cell_type": "code",
   "execution_count": 8,
   "metadata": {},
   "outputs": [
    {
     "name": "stdout",
     "output_type": "stream",
     "text": [
      "Hello\n",
      "Hello\n",
      "Hello\n",
      "Hello\n",
      "Hello\n",
      "Hello\n",
      "Hello\n",
      "Hello\n",
      "Hello\n",
      "Hello\n",
      "Hello\n",
      "Hello\n",
      "Hello\n",
      "Hello\n",
      "Hello\n",
      "Hello\n",
      "Hello\n",
      "Hello\n",
      "Hello\n",
      "Hello\n"
     ]
    }
   ],
   "source": [
    "a=1\n",
    "while a<10 or a>5:\n",
    "    print(\"Hello\")\n",
    "    if a==20:\n",
    "        break\n",
    "    a+=1"
   ]
  },
  {
   "cell_type": "code",
   "execution_count": 7,
   "metadata": {},
   "outputs": [
    {
     "name": "stdout",
     "output_type": "stream",
     "text": [
      "x is currently:  1\n",
      "x is still less than 10, add 1 to x\n",
      "x is currently:  2\n",
      "x is still less than 10, add 1 to x\n",
      "x is currently:  3\n",
      "x is still less than 10, add 1 to x\n",
      "x is currently:  4\n",
      "x is still less than 10, add 1 to x\n",
      "x is currently:  5\n",
      "x is still less than 10, add 1 to x\n",
      "x is currently:  6\n",
      "x is still less than 10, add 1 to x\n",
      "good bye\n"
     ]
    }
   ],
   "source": [
    "x = 1\n",
    "\n",
    "while x < 10:\n",
    "    \n",
    "    print('x is currently: ',x)\n",
    "    print('x is still less than 10, add 1 to x')\n",
    "    if x== 6 :\n",
    "        break\n",
    "    x+=1\n",
    "print(\"good bye\")"
   ]
  },
  {
   "cell_type": "markdown",
   "metadata": {},
   "source": [
    "Look at how many times the print statement was executed and how the while loop continued as long as the condition (x<10) was met. As soon as x==10 was true the code stopped. The following example shows how we could include an else statement:"
   ]
  },
  {
   "cell_type": "code",
   "execution_count": 6,
   "metadata": {},
   "outputs": [
    {
     "name": "stdin",
     "output_type": "stream",
     "text": [
      " 11\n"
     ]
    },
    {
     "name": "stdout",
     "output_type": "stream",
     "text": [
      "Ready!\n"
     ]
    }
   ],
   "source": [
    "# x = 0\n",
    "x=int(input())\n",
    "while x < 10:\n",
    "    print('x is currently: ',x)\n",
    "    print('x is still less than 10, add 1 to x')\n",
    "    x+=1\n",
    "else:\n",
    "    print('Ready!')"
   ]
  },
  {
   "cell_type": "markdown",
   "metadata": {},
   "source": [
    "## break, continue, pass\n",
    "\n",
    "We can use `break`, `continue` and `pass` statements in our loops to include additional functionality for a wide variety of cases. The three statements define themselves as follows:\n",
    "    \n",
    "    break: Breaks out of the current closest comprehensive loop.\n",
    "    continue: Goes to the beginning of the closest loop.\n",
    "    pass: Does nothing.\n",
    "    \n",
    "If we think about break and continue statement, the general form for while loops looks like this:\n",
    "\n",
    "    while test:\n",
    "        code statement\n",
    "        if test:\n",
    "            break\n",
    "        if test:\n",
    "            continue\n",
    "    else:\n",
    "    \n",
    "break and continue statements can be used anywhere within the loop body, but we usually use them at deeper levels in combination with if statements. \n",
    "\n",
    "Here are some examples:"
   ]
  },
  {
   "cell_type": "code",
   "execution_count": 13,
   "metadata": {},
   "outputs": [
    {
     "name": "stdout",
     "output_type": "stream",
     "text": [
      "1\n",
      "2\n",
      "4\n",
      "5\n"
     ]
    }
   ],
   "source": [
    "for i in range(1, 6):\n",
    "    if i == 3:\n",
    "        continue  # مقدار 3 را رد می‌کند و به تکرار بعدی می‌رود\n",
    "    print(i)\n"
   ]
  },
  {
   "cell_type": "markdown",
   "metadata": {},
   "source": [
    "See how we executed a print statement once x == 3. Now let's add a break statement as soon as x == 3 is met:"
   ]
  },
  {
   "cell_type": "markdown",
   "metadata": {},
   "source": [
    "What is remarkable about this is that the code now ends directly when break is reached.\n",
    "\n",
    "After these short examples, you should feel comfortable with while loops and use them in your code with a clear conscience.\n",
    "\n",
    "<b>A word of warning: it is possible to create infinite loops with while. Like in the following example, which you please do not execute:</b>."
   ]
  },
  {
   "cell_type": "code",
   "execution_count": 9,
   "metadata": {},
   "outputs": [],
   "source": [
    "# Do not execute this code!\n",
    "a=1\n",
    "while True:\n",
    "    print('Oh Oh, infinite loop')\n",
    "    a+=1\n",
    "    if a== 20 :\n",
    "        break\n",
    "\n"
   ]
  },
  {
   "cell_type": "code",
   "execution_count": null,
   "metadata": {},
   "outputs": [],
   "source": [
    "b=7\n",
    "while b<20:\n",
    "    print(\"salam\")\n",
    "    b+=2\n"
   ]
  },
  {
   "cell_type": "code",
   "execution_count": 11,
   "metadata": {},
   "outputs": [
    {
     "name": "stdout",
     "output_type": "stream",
     "text": [
      "44\n"
     ]
    }
   ],
   "source": [
    "a=15\n",
    "if a>10:\n",
    "    pass\n",
    "    \n",
    "\n",
    "\n",
    "print(44)\n"
   ]
  },
  {
   "cell_type": "code",
   "execution_count": 17,
   "metadata": {},
   "outputs": [
    {
     "name": "stdout",
     "output_type": "stream",
     "text": [
      "\n",
      "* * * * * \n",
      "* * * * * "
     ]
    }
   ],
   "source": [
    "for i in range(2):\n",
    "    print()\n",
    "    for j in range(5):\n",
    "        print(\"*\",end=\" \")"
   ]
  },
  {
   "cell_type": "code",
   "execution_count": null,
   "metadata": {},
   "outputs": [],
   "source": []
  },
  {
   "cell_type": "code",
   "execution_count": 25,
   "metadata": {},
   "outputs": [
    {
     "name": "stdout",
     "output_type": "stream",
     "text": [
      "\n",
      "* * * \n",
      "* * * "
     ]
    }
   ],
   "source": [
    "for i in range(2):\n",
    "    print()\n",
    "    for j in range(3):\n",
    "        print(\"*\",end=\" \")\n",
    "\n",
    "\n",
    "        \n",
    "# \"\\n\"=enter\n",
    "# print(2,end=\"  \")\n",
    "# print(3)\n",
    "# print(4)\n",
    "\n"
   ]
  },
  {
   "cell_type": "code",
   "execution_count": 29,
   "metadata": {},
   "outputs": [
    {
     "name": "stdin",
     "output_type": "stream",
     "text": [
      " 453435\n"
     ]
    },
    {
     "name": "stdout",
     "output_type": "stream",
     "text": [
      "453435\n"
     ]
    }
   ],
   "source": [
    "a=int(input())\n",
    "print(a)\n",
    "# stra=1254\n",
    "# stra=str(stra))\n",
    "# print(type(a))\n",
    "float()\n",
    "list(range(4))"
   ]
  },
  {
   "cell_type": "code",
   "execution_count": 15,
   "metadata": {},
   "outputs": [],
   "source": [
    "a=4\n",
    "while a<8:\n",
    "    pass\n",
    "    a+=1\n",
    "# h\n",
    "# d\n",
    "# d\n",
    "# d\n",
    "# dd\n",
    "\n",
    "# d\n",
    "\n",
    "# d\n",
    "\n",
    "#     print(a)\n",
    "#     a+=1\n",
    "# if 7<10:\n",
    "#     print(\"salam\")\n",
    "#     pass\n"
   ]
  }
 ],
 "metadata": {
  "kernelspec": {
   "display_name": "Python 3 (ipykernel)",
   "language": "python",
   "name": "python3"
  },
  "language_info": {
   "codemirror_mode": {
    "name": "ipython",
    "version": 3
   },
   "file_extension": ".py",
   "mimetype": "text/x-python",
   "name": "python",
   "nbconvert_exporter": "python",
   "pygments_lexer": "ipython3",
   "version": "3.12.4"
  },
  "vscode": {
   "interpreter": {
    "hash": "b6f32b27ef9c6af4eadce4d8c206da46e02e62476a2cc472d572e1930ebdcb4b"
   }
  }
 },
 "nbformat": 4,
 "nbformat_minor": 4
}
