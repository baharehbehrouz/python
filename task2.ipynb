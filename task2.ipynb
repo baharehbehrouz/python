{
 "cells": [
  {
   "cell_type": "markdown",
   "id": "30808c7a-bf65-4943-9fb0-7ed214a298e1",
   "metadata": {},
   "source": [
    "<div dir=\"rtl\" align=\"right\">\r\n",
    "\r\n",
    "## 📝 ترکیب رشته‌ها با استفاده از عملگر `+`\r\n",
    "متغیرهای زیر را در نظر بگیرید:\r\n",
    "\r\n",
    "first_name = \"ALI\"  \r\n",
    "last_name = \"REZAEI\"  \r\n",
    "age = 25  \r\n",
    "city = \"TEHRAN\"  \r\n",
    "\r\n",
    "با استفاده از عملگر `+`، رشته‌ای بسازید که جمله‌ی زیر را تولید کند:\r\n",
    "\r\n",
    "**My name is ALI REZAEI and I am 25 years old from TEHRAN.**\r\n",
    "\r\n",
    "</div>\r\n"
   ]
  },
  {
   "cell_type": "code",
   "execution_count": 3,
   "id": "f6fc463c-b6c2-4e41-bcb0-d3cc3d726b5d",
   "metadata": {},
   "outputs": [
    {
     "name": "stdout",
     "output_type": "stream",
     "text": [
      "My name is ALI REZAEI and I am 25 years old from TEHRAN.\n"
     ]
    }
   ],
   "source": [
    "# ترکیب رشته‌ها با استفاده از عملگر +\n",
    "first_name = \"ALI\"\n",
    "last_name = \"REZAEI\"\n",
    "age = 25\n",
    "city = \"TEHRAN\"\n",
    "\n",
    "message = \"My name is \" + first_name + \" \" + last_name + \" and I am \" + str(age) + \" years old from \" + city + \".\"\n",
    "print(message)\n"
   ]
  },
  {
   "cell_type": "markdown",
   "id": "8341af5d-2158-45ac-8a87-eee253f9638b",
   "metadata": {},
   "source": [
    "<div dir=\"rtl\" align=\"right\">\n",
    "\n",
    "## 📝 استفاده از متد `format` برای فرمت‌بندی رشته‌ها  \n",
    "با استفاده از متغیرهای تمرین قبل، رشته‌ای بسازید که جمله‌ی زیر را تولید کند:  \n",
    "\n",
    "**TEHRAN, ALI REZAEI, 25 years old**\n",
    "\n",
    "</div>\n"
   ]
  },
  {
   "cell_type": "code",
   "execution_count": 5,
   "id": "adba31d2-538b-4923-a966-7629197fe261",
   "metadata": {},
   "outputs": [
    {
     "name": "stdout",
     "output_type": "stream",
     "text": [
      "TEHRAN, ALI REZAEI, 25 years old\n"
     ]
    }
   ],
   "source": [
    "# استفاده از متد format برای فرمت‌بندی رشته‌ها\n",
    "message = \"{}, {} {}, {} years old\".format(city, first_name, last_name, age)\n",
    "print(message)\n"
   ]
  },
  {
   "cell_type": "markdown",
   "id": "d934595e-b6c7-4536-b2a8-7d69fcfbed3b",
   "metadata": {},
   "source": [
    "<div dir=\"rtl\" align=\"right\">\n",
    "\n",
    "## 📝 فرمت‌بندی اعداد اعشاری  \n",
    "فرض کنید متغیری به نام `gpa` دارید که مقدار آن `17.2567` است.  \n",
    "با استفاده از فرمت‌بندی، این مقدار را تا دو رقم اعشار نمایش دهید.\n",
    "\n",
    "</div>\n"
   ]
  },
  {
   "cell_type": "code",
   "execution_count": 6,
   "id": "e652b052-82cf-43b8-904a-0581b29a2b58",
   "metadata": {},
   "outputs": [
    {
     "name": "stdout",
     "output_type": "stream",
     "text": [
      "GPA: 17.26\n"
     ]
    }
   ],
   "source": [
    "# فرمت‌بندی اعداد اعشاری\n",
    "gpa = 17.2567\n",
    "formatted_gpa = \"{:.2f}\".format(gpa)\n",
    "print(\"GPA:\", formatted_gpa)\n"
   ]
  },
  {
   "cell_type": "markdown",
   "id": "609636a6-93fe-4cc2-8cab-6ad1a332c3cf",
   "metadata": {},
   "source": [
    "<div dir=\"rtl\" align=\"right\">\r\n",
    "\r\n",
    "## 📝 استفاده از `f-strings` برای فرمت‌بندی  \r\n",
    "با استفاده از `f-strings` (در پایتون 3.6 به بعد)، جمله‌ی زیر را تولید کنید:  \r\n",
    "\r\n",
    "**ALI REZAEI 25 years old from TEHRAN.**\r\n",
    "\r\n",
    "</div>\r\n"
   ]
  },
  {
   "cell_type": "code",
   "execution_count": 7,
   "id": "e92b2093-23bc-4ea3-99e0-8a5f7a197880",
   "metadata": {},
   "outputs": [
    {
     "name": "stdout",
     "output_type": "stream",
     "text": [
      "ALI REZAEI 25 years old from TEHRAN.\n"
     ]
    }
   ],
   "source": [
    "# استفاده از f-strings برای فرمت‌بندی\n",
    "message = f\"{first_name} {last_name} {age} years old from {city}.\"\n",
    "print(message)\n"
   ]
  },
  {
   "cell_type": "markdown",
   "id": "ab369a96-f275-4194-b31d-973c225622a7",
   "metadata": {},
   "source": [
    "<div dir=\"rtl\" align=\"right\">\r\n",
    "\r\n",
    "## 📝 تبدیل رشته به حروف بزرگ و کوچک  \r\n",
    "رشته‌ی `university = \"University of Tehran\"` را به حروف بزرگ و سپس به حروف کوچک تبدیل کنید.\r\n",
    "\r\n",
    "</div>\r\n"
   ]
  },
  {
   "cell_type": "code",
   "execution_count": 8,
   "id": "3cb9fddd-53fb-4e7b-93a0-44a01b8c189c",
   "metadata": {},
   "outputs": [
    {
     "name": "stdout",
     "output_type": "stream",
     "text": [
      "Upper case: UNIVERSITY OF TEHRAN\n",
      "Lower case: university of tehran\n"
     ]
    }
   ],
   "source": [
    "# تبدیل رشته به حروف بزرگ و کوچک\n",
    "university = \"University of Tehran\"\n",
    "upper_university = university.upper()\n",
    "lower_university = university.lower()\n",
    "\n",
    "print(\"Upper case:\", upper_university)\n",
    "print(\"Lower case:\", lower_university)\n"
   ]
  },
  {
   "cell_type": "markdown",
   "id": "1b01be7b-e141-4c39-ab05-7828787d52e9",
   "metadata": {},
   "source": [
    "<div dir=\"rtl\" align=\"right\">\n",
    "\n",
    "## 📝 جایگزینی زیررشته در یک رشته  \n",
    "در رشته‌ی `message = \"I live in Isfahan.\"`، کلمه‌ی `\"Isfahan\"` را با `\"Shiraz\"` جایگزین کنید.\n",
    "\n",
    "</div>\n"
   ]
  },
  {
   "cell_type": "code",
   "execution_count": 9,
   "id": "7a40dda8-6383-434b-9a14-f107cab7c758",
   "metadata": {},
   "outputs": [
    {
     "name": "stdout",
     "output_type": "stream",
     "text": [
      "I live in Shiraz.\n"
     ]
    }
   ],
   "source": [
    "# جایگزینی زیررشته در یک رشته\n",
    "message = \"I live in Isfahan.\"\n",
    "new_message = message.replace(\"Isfahan\", \"Shiraz\")\n",
    "print(new_message)\n"
   ]
  },
  {
   "cell_type": "markdown",
   "id": "767407bf-e88b-48dd-af2a-df0c782fe782",
   "metadata": {},
   "source": [
    "<div dir=\"rtl\" align=\"right\">\n",
    "\n",
    "## 📝 حذف فاصله‌های اضافی از ابتدا و انتهای رشته  \n",
    "رشته‌ی `data = \"   Python is a powerful programming language.   \"` را در نظر بگیرید.  \n",
    "فاصله‌های اضافی ابتدا و انتهای آن را حذف کنید.\n",
    "\n",
    "</div>\n"
   ]
  },
  {
   "cell_type": "code",
   "execution_count": 10,
   "id": "6c67db2a-8272-48f7-ae18-bed92d44b806",
   "metadata": {},
   "outputs": [
    {
     "name": "stdout",
     "output_type": "stream",
     "text": [
      "Python is a powerful programming language.\n"
     ]
    }
   ],
   "source": [
    "# حذف فاصله‌های اضافی از ابتدا و انتهای رشته\n",
    "data = \"   Python is a powerful programming language.   \"\n",
    "trimmed_data = data.strip()\n",
    "print(trimmed_data)\n"
   ]
  },
  {
   "cell_type": "markdown",
   "id": "6b75d772-15da-495c-a5d1-a52e06214485",
   "metadata": {},
   "source": [
    "<div dir=\"rtl\" align=\"right\">\r\n",
    "\r\n",
    "## 📝 بررسی شروع و پایان رشته  \r\n",
    "بررسی کنید که آیا رشته‌ی `filename = \"report.pdf\"` با `\"report\"` شروع می‌شود و با `\".pdf\"` پایان می‌یابد یا خیر.\r\n",
    "\r\n",
    "</div>\r\n"
   ]
  },
  {
   "cell_type": "code",
   "execution_count": 12,
   "id": "a9edc71b-084a-4856-9815-94f75edfb047",
   "metadata": {},
   "outputs": [
    {
     "name": "stdout",
     "output_type": "stream",
     "text": [
      "Starts with 'report': True\n",
      "Ends with '.pdf': True\n"
     ]
    }
   ],
   "source": [
    "# بررسی شروع و پایان رشته\n",
    "filename = \"report.pdf\"\n",
    "starts_with_report = filename.startswith(\"report\")\n",
    "ends_with_pdf = filename.endswith(\".pdf\")\n",
    "\n",
    "print(\"Starts with 'report':\", starts_with_report)\n",
    "print(\"Ends with '.pdf':\", ends_with_pdf)\n"
   ]
  },
  {
   "cell_type": "markdown",
   "id": "7400a8bf-5d87-4abe-b72b-86e3f181a54d",
   "metadata": {},
   "source": []
  },
  {
   "cell_type": "code",
   "execution_count": null,
   "id": "b654e746-cb09-4a97-8c12-37734a3bb44f",
   "metadata": {},
   "outputs": [],
   "source": []
  },
  {
   "cell_type": "code",
   "execution_count": null,
   "id": "b4c08bc3-f496-487b-b274-84f8b90836ff",
   "metadata": {},
   "outputs": [],
   "source": []
  }
 ],
 "metadata": {
  "kernelspec": {
   "display_name": "Python 3 (ipykernel)",
   "language": "python",
   "name": "python3"
  },
  "language_info": {
   "codemirror_mode": {
    "name": "ipython",
    "version": 3
   },
   "file_extension": ".py",
   "mimetype": "text/x-python",
   "name": "python",
   "nbconvert_exporter": "python",
   "pygments_lexer": "ipython3",
   "version": "3.12.4"
  }
 },
 "nbformat": 4,
 "nbformat_minor": 5
}
