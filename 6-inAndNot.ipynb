{
 "cells": [
  {
   "cell_type": "markdown",
   "metadata": {
    "collapsed": true,
    "jupyter": {
     "outputs_hidden": true
    }
   },
   "source": [
    "# The `in` operator\n",
    "\n",
    "The `in` operator works with iterable types, such as lists or strings, in Python. It is used to check if an element is found in the iterable. The `in` operator returns `True` if an element is found. It returns `False` if not.\n",
    "\n",
    "We can now go through a few examples:"
   ]
  },
  {
   "cell_type": "code",
   "execution_count": 1,
   "metadata": {},
   "outputs": [],
   "source": [
    "characters = [\"Han Solo\", \"Chewbacca\", \"Obi-Wan\", \"Luke\"]"
   ]
  },
  {
   "cell_type": "code",
   "execution_count": 7,
   "metadata": {},
   "outputs": [
    {
     "name": "stdout",
     "output_type": "stream",
     "text": [
      "True\n"
     ]
    }
   ],
   "source": [
    "\n",
    "str='\"Han Solo\", \"Chewbacca\", \"Obi-Wan\", \"Luke\"'\n",
    "\n",
    "print(\"fffff\" not in str)\n"
   ]
  },
  {
   "cell_type": "code",
   "execution_count": 6,
   "metadata": {},
   "outputs": [
    {
     "name": "stdout",
     "output_type": "stream",
     "text": [
      "^\n"
     ]
    }
   ],
   "source": [
    "if not 2<0:\n",
    "    print(\"^\")\n",
    "\n",
    "not \n",
    "==  !=\n",
    ">   <\n",
    ">   >\n",
    "and  or \n",
    "or   and\n",
    "True  False\n"
   ]
  },
  {
   "cell_type": "code",
   "execution_count": null,
   "metadata": {},
   "outputs": [],
   "source": []
  },
  {
   "cell_type": "code",
   "execution_count": 3,
   "metadata": {},
   "outputs": [
    {
     "name": "stdout",
     "output_type": "stream",
     "text": [
      "True\n",
      "False\n"
     ]
    }
   ],
   "source": [
    "print(\"Han Solo\" in characters)\n",
    "print(\"Harry Potter\" in characters)"
   ]
  },
  {
   "cell_type": "markdown",
   "metadata": {},
   "source": [
    "Use the `in` operator whenever you want to check if an iterable object contains a value.\n",
    "\n",
    "Commonly, you see the `in` operator combined with an if operator."
   ]
  },
  {
   "cell_type": "code",
   "execution_count": 5,
   "metadata": {},
   "outputs": [
    {
     "name": "stdout",
     "output_type": "stream",
     "text": [
      "Yes, Han Solo is a Character in Star Wars!\n",
      "No, Harry Potter is not a Character in Star Wars!\n"
     ]
    }
   ],
   "source": [
    "if \"Han Solo\" in characters:\n",
    "    print(\"Yes, Han Solo is a Character in Star Wars!\")\n",
    "else:\n",
    "    print(\"No, Han Solo is not a Character in Star Wars!\")\n",
    "\n",
    "if \"Harry Potter\" in characters:\n",
    "    print(\"Yes, Harry Potter is a Character in Star Wars!\")\n",
    "else:\n",
    "    print(\"No, Harry Potter is not a Character in Star Wars!\")"
   ]
  },
  {
   "cell_type": "markdown",
   "metadata": {},
   "source": [
    "As you learned, you can use the in operator with iterables in Python. A Python string is an iterable object. This means you can use the in operator on a string as well.\n",
    "\n",
    "When using the in operator on a string, you can check if:\n",
    "\n",
    "- A character exists in a string.\n",
    "- A substring exists in a string.\n",
    "\n",
    "For example, let’s see if “Hello” exists in “Hello world”:"
   ]
  },
  {
   "cell_type": "code",
   "execution_count": 4,
   "metadata": {},
   "outputs": [
    {
     "data": {
      "text/plain": [
       "True"
      ]
     },
     "execution_count": 4,
     "metadata": {},
     "output_type": "execute_result"
    }
   ],
   "source": [
    "\"Hello\" in \"Hello world\""
   ]
  },
  {
   "cell_type": "markdown",
   "metadata": {},
   "source": [
    "* * *"
   ]
  },
  {
   "cell_type": "markdown",
   "metadata": {},
   "source": [
    "# The `not in` Opterator\n",
    "\n",
    "Another common way to use the `in` operator is to check if a value is `not` in a group.\n",
    "\n",
    "To do this, you can negate the in operator with the not operator to give rise to the not in operator.\n",
    "\n",
    "For example, let’s check if there are no “s” letters in a word:"
   ]
  },
  {
   "cell_type": "code",
   "execution_count": 6,
   "metadata": {},
   "outputs": [
    {
     "name": "stdout",
     "output_type": "stream",
     "text": [
      "no 's' letters found\n"
     ]
    }
   ],
   "source": [
    "word = \"Hello World!\"\n",
    "if \"s\" not in word:\n",
    "    print (\"no 's' letters found\")"
   ]
  },
  {
   "cell_type": "markdown",
   "metadata": {},
   "source": [
    "Annother example:"
   ]
  },
  {
   "cell_type": "code",
   "execution_count": 8,
   "metadata": {},
   "outputs": [
    {
     "name": "stdout",
     "output_type": "stream",
     "text": [
      "executed\n"
     ]
    }
   ],
   "source": [
    "age = 35\n",
    "\n",
    "if age >= 30:\n",
    "    print(\"executed\")"
   ]
  },
  {
   "cell_type": "code",
   "execution_count": 9,
   "metadata": {},
   "outputs": [],
   "source": [
    "age = 35\n",
    "\n",
    "if not age >= 30:\n",
    "    print(\"executed\")"
   ]
  },
  {
   "cell_type": "code",
   "execution_count": 10,
   "metadata": {},
   "outputs": [
    {
     "name": "stdout",
     "output_type": "stream",
     "text": [
      "The Terminator is not included in the list\n",
      "The Terminator is not included in the list\n"
     ]
    }
   ],
   "source": [
    "if \"Terminator\" not in characters:\n",
    "    print(\"The Terminator is not included in the list\")\n",
    "\n",
    "if not \"Terminator\" in characters:\n",
    "    print(\"The Terminator is not included in the list\")"
   ]
  }
 ],
 "metadata": {
  "kernelspec": {
   "display_name": "Python 3 (ipykernel)",
   "language": "python",
   "name": "python3"
  },
  "language_info": {
   "codemirror_mode": {
    "name": "ipython",
    "version": 3
   },
   "file_extension": ".py",
   "mimetype": "text/x-python",
   "name": "python",
   "nbconvert_exporter": "python",
   "pygments_lexer": "ipython3",
   "version": "3.12.4"
  },
  "vscode": {
   "interpreter": {
    "hash": "1f13f79a6af6271c7cb508a5eefcb6e72f43a80d6f14d8e1e3a796aa8f91c0c4"
   }
  }
 },
 "nbformat": 4,
 "nbformat_minor": 4
}
