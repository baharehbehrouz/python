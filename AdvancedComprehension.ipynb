{
 "cells": [
  {
   "cell_type": "markdown",
   "id": "487e36f4-3653-4f36-992d-041d6b41f409",
   "metadata": {},
   "source": [
    "##  Adding a Condition in List Comprehension\r\n",
    "\r\n",
    "### Example: Extracting Even Numbers\r\n",
    "\r\n",
    "### Traditional Method:\r\n"
   ]
  },
  {
   "cell_type": "code",
   "execution_count": null,
   "id": "8bf834fc-80c7-482c-877a-8d751b51894a",
   "metadata": {},
   "outputs": [],
   "source": [
    "# Long\n",
    "squares = []\n",
    "for i in range(5):\n",
    "    squares.append(i * i)\n",
    "\n",
    "\n",
    "# short\n",
    "squares = [i**2 for i in range(5)]  # output: [0, 1, 4, 9, 16]\n",
    "  \n",
    "\n"
   ]
  },
  {
   "cell_type": "markdown",
   "id": "29eaa43d-9e73-47b6-a581-67cbb71186d4",
   "metadata": {},
   "source": [
    "### Add if/else to Traditional method"
   ]
  },
  {
   "cell_type": "code",
   "execution_count": 7,
   "id": "41d4968b-0f8d-46bb-a47d-4c27ffd26a9c",
   "metadata": {},
   "outputs": [
    {
     "name": "stdout",
     "output_type": "stream",
     "text": [
      "['Odd', 'Even', 'Odd', 'Even', 'Odd']\n"
     ]
    }
   ],
   "source": [
    "labels = [\"Even\" if x % 2 == 0 else \"Odd\" for x in range(1, 6)]\n",
    "print(labels)  # output: ['Odd', 'Even', 'Odd', 'Even', 'Odd']\n"
   ]
  },
  {
   "cell_type": "markdown",
   "id": "e074aeed-1165-438b-b744-ca33da6864d8",
   "metadata": {},
   "source": [
    "##  Filtering Data in One Line of Code\r\n",
    "\r\n",
    "#### Example: Extracting Words with More Than 4 Letters\r\n",
    "\r",
    "#\n",
    "### Traditional Method:\r\n"
   ]
  },
  {
   "cell_type": "code",
   "execution_count": 5,
   "id": "72f0da4b-6270-4126-8dfb-a50c4d9e73ce",
   "metadata": {},
   "outputs": [
    {
     "name": "stdout",
     "output_type": "stream",
     "text": [
      "['apple', 'banana', 'elephant']\n"
     ]
    }
   ],
   "source": [
    "words = [\"apple\", \"cat\", \"banana\", \"dog\", \"elephant\"]\n",
    "long_words = []\n",
    "for word in words:\n",
    "    if len(word) > 4:\n",
    "        long_words.append(word)\n",
    "\n",
    "print(long_words)  # Output: ['apple', 'banana', 'elephant']\n"
   ]
  },
  {
   "cell_type": "markdown",
   "id": "4b98d55b-959c-4f7d-b5c9-ac9177dab313",
   "metadata": {},
   "source": [
    "## Types of Comprehension in Python:\n",
    "###### Python provides a powerful way to create collections using comprehension. We have the following types:\n",
    "###### ✅ **List Comprehension** → Creates a new list .\n",
    "###### ✅ **Dictionary Comprehension** → Creates a new dictionary .\n",
    "###### ✅ **Set Comprehension** → Creates a new set .\n",
    "###### ✅ **Tuple Comprehension** (Actually, it’s a Generator Expression) .\n",
    "\n",
    "Let’s explore each one with examples. 👇"
   ]
  },
  {
   "cell_type": "markdown",
   "id": "b0de317a-10fd-4daf-bf40-5311a3322666",
   "metadata": {},
   "source": [
    "## List Comprehension\n",
    "This allows us to create a new list from an existing iterable in a single line of code."
   ]
  },
  {
   "cell_type": "code",
   "execution_count": 1,
   "id": "675e7191-ab2d-4b55-ab61-5bc012f78d09",
   "metadata": {},
   "outputs": [
    {
     "name": "stdout",
     "output_type": "stream",
     "text": [
      "[1, 4, 9, 16, 25]\n"
     ]
    }
   ],
   "source": [
    "numbers = [1, 2, 3, 4, 5]\n",
    "squared = [n**2 for n in numbers]\n",
    "print(squared)\n"
   ]
  },
  {
   "cell_type": "markdown",
   "id": "fa9b1a35-5b28-460c-b198-01ff5563515e",
   "metadata": {},
   "source": [
    " Using an if condition:"
   ]
  },
  {
   "cell_type": "code",
   "execution_count": 3,
   "id": "5905599a-5beb-4dbe-a26e-af1a18915663",
   "metadata": {},
   "outputs": [
    {
     "name": "stdout",
     "output_type": "stream",
     "text": [
      "[2, 4]\n"
     ]
    }
   ],
   "source": [
    "even_numbers = [n for n in numbers if n % 2 == 0]\n",
    "print(even_numbers)\n"
   ]
  },
  {
   "cell_type": "markdown",
   "id": "f2f27cbe-cbbe-4429-9886-0928dec360d6",
   "metadata": {},
   "source": [
    "### Dictionary Comprehension"
   ]
  },
  {
   "cell_type": "markdown",
   "id": "e9fbbfa6-7cbf-46e6-89ed-6804807ef1c8",
   "metadata": {},
   "source": [
    "This allows us to create a dictionary in a concise way.\n",
    "\n"
   ]
  },
  {
   "cell_type": "code",
   "execution_count": 4,
   "id": "cc8eff6f-3cd5-4c8c-b80e-3b146485f5f6",
   "metadata": {},
   "outputs": [
    {
     "name": "stdout",
     "output_type": "stream",
     "text": [
      "{1: 1, 2: 4, 3: 9, 4: 16, 5: 25}\n"
     ]
    }
   ],
   "source": [
    "numbers = [1, 2, 3, 4, 5]\n",
    "squared_dict = {n: n**2 for n in numbers}\n",
    "print(squared_dict)\n"
   ]
  },
  {
   "cell_type": "markdown",
   "id": "315c08f2-65e6-47a9-adad-d0634c35091f",
   "metadata": {},
   "source": [
    "Using an if condition:\n"
   ]
  },
  {
   "cell_type": "code",
   "execution_count": 5,
   "id": "8c091abc-d32d-4968-bbd6-4e2a4fbee513",
   "metadata": {},
   "outputs": [
    {
     "name": "stdout",
     "output_type": "stream",
     "text": [
      "{2: 4, 4: 16}\n"
     ]
    }
   ],
   "source": [
    "even_squared = {n: n**2 for n in numbers if n % 2 == 0}\n",
    "print(even_squared)\n"
   ]
  },
  {
   "cell_type": "markdown",
   "id": "a1a68526-b5c5-4857-a2c0-321879e916ab",
   "metadata": {},
   "source": [
    "### Set Comprehension\n",
    "Set comprehension is similar to list comprehension, but it removes duplicate values automatically."
   ]
  },
  {
   "cell_type": "code",
   "execution_count": 7,
   "id": "ac2cfeda-9408-4777-8c77-2b024d0c755d",
   "metadata": {},
   "outputs": [
    {
     "name": "stdout",
     "output_type": "stream",
     "text": [
      "{1, 4, 9, 16, 25}\n"
     ]
    }
   ],
   "source": [
    "numbers = [1, 2, 2, 3, 4, 4, 5]\n",
    "squared_set = {n**2 for n in numbers}\n",
    "print(squared_set)\n"
   ]
  },
  {
   "cell_type": "markdown",
   "id": "3d09d7c3-c618-4da8-b049-4feb394accdb",
   "metadata": {},
   "source": [
    "Using an if condition:"
   ]
  },
  {
   "cell_type": "code",
   "execution_count": 8,
   "id": "954b385b-41b9-49ef-8be6-42fb9f8acec5",
   "metadata": {},
   "outputs": [
    {
     "name": "stdout",
     "output_type": "stream",
     "text": [
      "{2, 4}\n"
     ]
    }
   ],
   "source": [
    "even_set = {n for n in numbers if n % 2 == 0}\n",
    "print(even_set)\n"
   ]
  },
  {
   "cell_type": "markdown",
   "id": "96a80f80-3389-475a-bee6-1c459056e9f5",
   "metadata": {},
   "source": [
    "### Tuple Comprehension (or Generator Expression)\n",
    "Python does not have true tuple comprehension. Instead, when we use parentheses (), it creates a generator expression instead of a tuple."
   ]
  },
  {
   "cell_type": "code",
   "execution_count": 9,
   "id": "9aeafdc0-1ebb-469f-a509-e370e0a1b620",
   "metadata": {},
   "outputs": [
    {
     "name": "stdout",
     "output_type": "stream",
     "text": [
      "<generator object <genexpr> at 0x0000021501464BA0>\n"
     ]
    }
   ],
   "source": [
    "numbers = [1, 2, 3, 4, 5]\n",
    "squared_tuple = (n**2 for n in numbers)\n",
    "print(squared_tuple)\n"
   ]
  },
  {
   "cell_type": "markdown",
   "id": "caffded5-fece-464c-b6da-500be56d1b1d",
   "metadata": {},
   "source": [
    "This is a generator, not a tuple!\n",
    "\n",
    "To get values, use tuple() or iterate using next():"
   ]
  },
  {
   "cell_type": "code",
   "execution_count": 11,
   "id": "8bfbdd69-0a1f-44b2-a64c-81b8b3d6402d",
   "metadata": {},
   "outputs": [
    {
     "name": "stdout",
     "output_type": "stream",
     "text": [
      "1\n",
      "4\n"
     ]
    }
   ],
   "source": [
    "print(next(squared_tuple))  # Generates the first value\n",
    "print(next(squared_tuple))  # Generates the second value\n"
   ]
  },
  {
   "cell_type": "markdown",
   "id": "402d0fd5-34d2-4c38-af35-8c240ba01e5f",
   "metadata": {},
   "source": [
    "# Lambda and Map Functions for Code Conciseness\r\n",
    "\r\n",
    "## Lambda Functions\r\n",
    "- A **lambda function** is an anonymous, single-line function defined without a name, used for simple operations.\r\n",
    "- Syntax: `lambda arguments: expression`\r\n",
    "- Use case: Temporary functions for short computations, often combined with other functions like `map()`.\r\n",
    "\r\n",
    "## Map Function\r\n",
    "- The **`map()` function** applies a given function to each item in an iterable (e.g., list) and returns an iterable result.\r\n",
    "- Syntax: `map(function, iterable)`\r\n",
    "- Use case: Efficiently transform or process data in a concise way.\r\n",
    "\r\n",
    "**Why use them?**\r\n",
    "- Reduce code length, improve readability, and enhance efficiency in tasks like data processing (e.g., in data science projects).\r\n"
   ]
  },
  {
   "cell_type": "markdown",
   "id": "eb5da97d-9bdb-4b05-ad18-78d425c6dbc5",
   "metadata": {},
   "source": [
    "### Lambda Functions\n",
    "A lambda function is an anonymous function that contains a single expression.\n",
    "\n",
    "✅ Example:"
   ]
  },
  {
   "cell_type": "code",
   "execution_count": 3,
   "id": "12524ae8-7b2b-455d-9d3e-03a5a8013eb9",
   "metadata": {},
   "outputs": [
    {
     "name": "stdout",
     "output_type": "stream",
     "text": [
      "25\n"
     ]
    }
   ],
   "source": [
    "square = lambda x: x ** 2\n",
    "print(square(5))\n"
   ]
  },
  {
   "cell_type": "code",
   "execution_count": 7,
   "id": "7cd81f1f-f875-4047-b0d8-94fad02aff9b",
   "metadata": {},
   "outputs": [
    {
     "name": "stdout",
     "output_type": "stream",
     "text": [
      "Using loop: [1, 4, 9, 16, 25]\n",
      "Using Lambda and Map: [1, 4, 9, 16, 25]\n"
     ]
    }
   ],
   "source": [
    "# Example 1: Squaring Numbers with Lambda and Map\n",
    "\n",
    "# Traditional approach with a loop\n",
    "numbers = [1, 2, 3, 4, 5]\n",
    "squares = []\n",
    "for num in numbers:\n",
    "    squares.append(num * num)\n",
    "print(\"Using loop:\", squares)  # Output: [1, 4, 9, 16, 25]\n",
    "\n",
    "# Concise approach with Lambda and Map\n",
    "squares = list(map(lambda x: x**2, numbers))\n",
    "print(\"Using Lambda and Map:\", squares)  # Output: [1, 4, 9, 16, 25]\n"
   ]
  },
  {
   "cell_type": "code",
   "execution_count": 4,
   "id": "50662d86-cae5-4dd8-8a06-718419ceb3d1",
   "metadata": {},
   "outputs": [
    {
     "name": "stdout",
     "output_type": "stream",
     "text": [
      "Using loop: [32.0, 68.0, 98.6, 212.0]\n",
      "Using Lambda and Map: [32.0, 68.0, 98.6, 212.0]\n"
     ]
    }
   ],
   "source": [
    "# Example 2: Converting Celsius to Fahrenheit with Lambda and Map\n",
    "\n",
    "# Traditional approach with a defined function\n",
    "def celsius_to_fahrenheit(c):\n",
    "    return (c * 9/5) + 32\n",
    "\n",
    "temps_celsius = [0, 20, 37, 100]\n",
    "temps_fahrenheit = []\n",
    "for temp in temps_celsius:\n",
    "    temps_fahrenheit.append(celsius_to_fahrenheit(temp))\n",
    "print(\"Using loop:\", temps_fahrenheit)  # Output: [32.0, 68.0, 98.6, 212.0]\n",
    "\n",
    "# Concise approach with Lambda and Map\n",
    "temps_fahrenheit = list(map(lambda c: (c * 9/5) + 32, temps_celsius))\n",
    "print(\"Using Lambda and Map:\", temps_fahrenheit)  # Output: [32.0, 68.0, 98.6, 212.0]\n"
   ]
  },
  {
   "cell_type": "code",
   "execution_count": 6,
   "id": "5f5d1876-3045-416d-9723-b418475f39e7",
   "metadata": {},
   "outputs": [
    {
     "name": "stdout",
     "output_type": "stream",
     "text": [
      "Using loop: ['HELLO', 'WORLD', 'PYTHON']\n",
      "Using Lambda and Map: ['HELLO', 'WORLD', 'PYTHON']\n"
     ]
    }
   ],
   "source": [
    "# Example 3: Converting Strings to Uppercase with Lambda and Map\n",
    "\n",
    "# Traditional approach with a loop\n",
    "words = [\"hello\", \"world\", \"python\"]\n",
    "upper_words = []\n",
    "for word in words:\n",
    "    upper_words.append(word.upper())\n",
    "print(\"Using loop:\", upper_words)  # Output: ['HELLO', 'WORLD', 'PYTHON']\n",
    "\n",
    "# Concise approach with Lambda and Map\n",
    "upper_words = list(map(lambda s: s.upper(), words))\n",
    "print(\"Using Lambda and Map:\", upper_words)  # Output: ['HELLO', 'WORLD', 'PYTHON']\n"
   ]
  },
  {
   "cell_type": "markdown",
   "id": "cfca88fb-e8db-4492-a90a-5f4d05f91560",
   "metadata": {},
   "source": [
    "## Benefits and Cautions\n",
    "\n",
    "**Benefits**:\n",
    "- Shorter, cleaner code.\n",
    "- Faster execution for large datasets (e.g., in data science).\n",
    "- Professional and modern coding style.\n",
    "\n",
    "**Cautions**:\n",
    "- Overusing Lambda and Map can reduce readability, especially for beginners or team projects.\n",
    "- Example of overuse: `list(map(lambda x: x**2 if x > 0 else x, lst))` is hard to read.\n",
    "- **Tip**: Prioritize clarity over brevity in collaborative work.\n"
   ]
  },
  {
   "cell_type": "code",
   "execution_count": null,
   "id": "a1cf1387-8f2d-4c87-99ac-50a5257d2cbd",
   "metadata": {},
   "outputs": [],
   "source": []
  }
 ],
 "metadata": {
  "kernelspec": {
   "display_name": "Python 3 (ipykernel)",
   "language": "python",
   "name": "python3"
  },
  "language_info": {
   "codemirror_mode": {
    "name": "ipython",
    "version": 3
   },
   "file_extension": ".py",
   "mimetype": "text/x-python",
   "name": "python",
   "nbconvert_exporter": "python",
   "pygments_lexer": "ipython3",
   "version": "3.11.4"
  }
 },
 "nbformat": 4,
 "nbformat_minor": 5
}
