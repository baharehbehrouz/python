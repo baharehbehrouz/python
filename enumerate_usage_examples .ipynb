{
 "cells": [
  {
   "cell_type": "markdown",
   "id": "cedbc965",
   "metadata": {},
   "source": [
    "# `enumerate()` in Python\n",
    "\n",
    "`enumerate()` is a built-in Python function that adds a counter to an iterable and returns it as an enumerate object."
   ]
  },
  {
   "cell_type": "markdown",
   "id": "f7d4140f",
   "metadata": {},
   "source": [
    "## 1. Iterating over a list with index"
   ]
  },
  {
   "cell_type": "code",
   "execution_count": 2,
   "id": "a0ce2bd2",
   "metadata": {},
   "outputs": [
    {
     "name": "stdout",
     "output_type": "stream",
     "text": [
      "0 apple\n",
      "1 banana\n",
      "2 cherry\n"
     ]
    }
   ],
   "source": [
    "fruits = [\"apple\", \"banana\", \"cherry\"]\n",
    "for index, fruit in enumerate(fruits):\n",
    "    print(index, fruit)D"
   ]
  },
  {
   "cell_type": "markdown",
   "id": "1da056ac",
   "metadata": {},
   "source": [
    "## 2. Starting index from a custom value"
   ]
  },
  {
   "cell_type": "code",
   "execution_count": 4,
   "id": "1aacc0b2",
   "metadata": {},
   "outputs": [
    {
     "name": "stdout",
     "output_type": "stream",
     "text": [
      "1 apple\n",
      "2 banana\n",
      "3 cherry\n"
     ]
    }
   ],
   "source": [
    "for index, fruit in enumerate(fruits, start=1):\n",
    "    print(index, fruit)"
   ]
  },
  {
   "cell_type": "markdown",
   "id": "2d6b7867",
   "metadata": {},
   "source": [
    "## 3. Iterating over a string with index"
   ]
  },
  {
   "cell_type": "code",
   "execution_count": 6,
   "id": "a5273581",
   "metadata": {},
   "outputs": [
    {
     "name": "stdout",
     "output_type": "stream",
     "text": [
      "0 p\n",
      "1 y\n",
      "2 t\n",
      "3 h\n",
      "4 o\n",
      "5 n\n"
     ]
    }
   ],
   "source": [
    "text = \"python\"\n",
    "for index, char in enumerate(text):\n",
    "    print(index, char)"
   ]
  },
  {
   "cell_type": "markdown",
   "id": "15696ec9",
   "metadata": {},
   "source": [
    "## 4. Filtering items based on index (even indices only)"
   ]
  },
  {
   "cell_type": "code",
   "execution_count": 8,
   "id": "9c2df7d7",
   "metadata": {},
   "outputs": [
    {
     "name": "stdout",
     "output_type": "stream",
     "text": [
      "apple\n",
      "cherry\n"
     ]
    }
   ],
   "source": [
    "for index, fruit in enumerate(fruits):\n",
    "    if index % 2 == 0:\n",
    "        print(fruit)"
   ]
  },
  {
   "cell_type": "markdown",
   "id": "fc6a7354",
   "metadata": {},
   "source": [
    "## 5. Convert list to dictionary with indices as keys"
   ]
  },
  {
   "cell_type": "code",
   "execution_count": 10,
   "id": "f9851339",
   "metadata": {},
   "outputs": [
    {
     "name": "stdout",
     "output_type": "stream",
     "text": [
      "{0: 'apple', 1: 'banana', 2: 'cherry'}\n"
     ]
    }
   ],
   "source": [
    "fruit_dict = dict(enumerate(fruits))\n",
    "print(fruit_dict)"
   ]
  },
  {
   "cell_type": "markdown",
   "id": "8ee50518",
   "metadata": {},
   "source": [
    "## 6. Convert to list of (index, value) tuples"
   ]
  },
  {
   "cell_type": "code",
   "execution_count": 12,
   "id": "7d2915f7",
   "metadata": {},
   "outputs": [
    {
     "name": "stdout",
     "output_type": "stream",
     "text": [
      "[(0, 'apple'), (1, 'banana'), (2, 'cherry')]\n"
     ]
    }
   ],
   "source": [
    "fruit_list = list(enumerate(fruits))\n",
    "print(fruit_list)"
   ]
  },
  {
   "cell_type": "code",
   "execution_count": null,
   "id": "8856a6c1-4793-40d6-91ec-004b1b37008c",
   "metadata": {},
   "outputs": [],
   "source": []
  }
 ],
 "metadata": {
  "kernelspec": {
   "display_name": "Python 3 (ipykernel)",
   "language": "python",
   "name": "python3"
  },
  "language_info": {
   "codemirror_mode": {
    "name": "ipython",
    "version": 3
   },
   "file_extension": ".py",
   "mimetype": "text/x-python",
   "name": "python",
   "nbconvert_exporter": "python",
   "pygments_lexer": "ipython3",
   "version": "3.11.4"
  }
 },
 "nbformat": 4,
 "nbformat_minor": 5
}
