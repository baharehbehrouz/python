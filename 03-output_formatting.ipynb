{
 "cells": [
  {
   "cell_type": "markdown",
   "metadata": {
    "collapsed": true,
    "jupyter": {
     "outputs_hidden": true
    }
   },
   "source": [
    "# Output Formatting\n",
    "\n",
    "In this lesson we will briefly cover the different ways we can format our print statements. As we program more and more it will be useful to have print statements where a variable is used.\n",
    "\n",
    "The simplest example of a print statement is the following:"
   ]
  },
  {
   "cell_type": "code",
   "execution_count": 1,
   "metadata": {},
   "outputs": [
    {
     "name": "stdout",
     "output_type": "stream",
     "text": [
      "This is a string\n"
     ]
    }
   ],
   "source": [
    "print(\"This is a string\")"
   ]
  },
  {
   "cell_type": "markdown",
   "metadata": {},
   "source": [
    "## Strings\n",
    "\n",
    "We can use `%s` to insert strings into our print statement."
   ]
  },
  {
   "cell_type": "code",
   "execution_count": null,
   "metadata": {},
   "outputs": [],
   "source": [
    "s = 'STRING'\n",
    "print('Insert a string with a mod and s: %s' %(s))"
   ]
  },
  {
   "cell_type": "markdown",
   "metadata": {},
   "source": [
    "## Comma numbers\n",
    "\n",
    "Comma numbers use the %n1.n2f format, where the n1 determines the minimum number of digits the string should contain. These are replaced by spaces if the number does not have that many digits. The n2 placeholder represents how many numbers should be displayed after the decimal point. Let's look at some examples:"
   ]
  },
  {
   "cell_type": "code",
   "execution_count": 1,
   "metadata": {},
   "outputs": [
    {
     "name": "stdout",
     "output_type": "stream",
     "text": [
      "Kommazahlen: 13.14\n"
     ]
    }
   ],
   "source": [
    "print('Comma number: %1.2f' %(13.144))"
   ]
  },
  {
   "cell_type": "code",
   "execution_count": 2,
   "metadata": {},
   "outputs": [
    {
     "name": "stdout",
     "output_type": "stream",
     "text": [
      "Kommazahlen: 13\n"
     ]
    }
   ],
   "source": [
    "print('Comma number: %1.0f' %(13.144))"
   ]
  },
  {
   "cell_type": "code",
   "execution_count": 6,
   "metadata": {},
   "outputs": [
    {
     "name": "stdout",
     "output_type": "stream",
     "text": [
      "Kommazahlen: 13.14400000\n"
     ]
    }
   ],
   "source": [
    "print('Comma number: %1.8f' %(13.144))"
   ]
  },
  {
   "cell_type": "code",
   "execution_count": 4,
   "metadata": {},
   "outputs": [
    {
     "name": "stdout",
     "output_type": "stream",
     "text": [
      "Kommazahlen:      13.14\n"
     ]
    }
   ],
   "source": [
    "print('Comma number: %10.2f' %(13.144))"
   ]
  },
  {
   "cell_type": "code",
   "execution_count": 5,
   "metadata": {},
   "outputs": [
    {
     "name": "stdout",
     "output_type": "stream",
     "text": [
      "Kommazahlen:                     13.14\n"
     ]
    }
   ],
   "source": [
    "print('Comma number: %25.2f' %(13.144))"
   ]
  },
  {
   "cell_type": "markdown",
   "metadata": {},
   "source": [
    "## Conversion format methods\n",
    "\n",
    "It should be noted at this point that the two methods `%s` and `&r` convert any Python object into a string. Two different methods are used to do this: `str()` and `repr()`. We will learn more about these methods later, but we can already note that almost any Python object can be passed through these methods."
   ]
  },
  {
   "cell_type": "code",
   "execution_count": 10,
   "metadata": {},
   "outputs": [
    {
     "name": "stdout",
     "output_type": "stream",
     "text": [
      "Hier ist eine Nummer: 123.100. Hier ist ein String: Hi\n"
     ]
    }
   ],
   "source": [
    "print('Here is a number: %1.3f. Here is a string: %s' %(123.1,'Hi'))"
   ]
  },
  {
   "cell_type": "code",
   "execution_count": 8,
   "metadata": {},
   "outputs": [
    {
     "name": "stdout",
     "output_type": "stream",
     "text": [
      "Hier ist eine Nummer: 123.1. Hier ist ein String: 'Hi'\n"
     ]
    }
   ],
   "source": [
    "print('Here is a number: %r. Here is a string: %r' %(123.1,'Hi'))"
   ]
  },
  {
   "cell_type": "markdown",
   "metadata": {},
   "source": [
    "## Multiple formatting\n",
    "\n",
    "We can pass a tuple to the mod symbol to output multiple formats in our print statement:"
   ]
  },
  {
   "cell_type": "code",
   "execution_count": 11,
   "metadata": {},
   "outputs": [
    {
     "name": "stdout",
     "output_type": "stream",
     "text": [
      "Erstens: Hi!, Zweitens: 3.14, Drittens: 22\n"
     ]
    }
   ],
   "source": [
    "print('First: %s, Second: %1.2f, Third: %r' %('Hi!',3.14,22))"
   ]
  },
  {
   "cell_type": "markdown",
   "metadata": {},
   "source": [
    "## Using the string .format() method\n",
    "\n",
    "The best way to format objects in our strings is to use the `format` method. The syntax is:\n",
    "\n",
    "    'String here {var1} and {var2}' .format(var1='Something1',var2='Something2')\n",
    "    \n",
    "Here are some examples:"
   ]
  },
  {
   "cell_type": "code",
   "execution_count": 2,
   "metadata": {},
   "outputs": [
    {
     "name": "stdout",
     "output_type": "stream",
     "text": [
      "This is a string with a insertion\n"
     ]
    }
   ],
   "source": [
    "print('This is a string with a {p}' .format(p='insertion'))"
   ]
  },
  {
   "cell_type": "code",
   "execution_count": 4,
   "metadata": {},
   "outputs": [
    {
     "name": "stdout",
     "output_type": "stream",
     "text": [
      "One: Hi!, Two: Hi!, Three: Hi!\n"
     ]
    }
   ],
   "source": [
    "# Mehrere male:\n",
    "print('One: {p}, Two: {p}, Three: {p}' .format(p='Hi!'))"
   ]
  },
  {
   "cell_type": "code",
   "execution_count": 6,
   "metadata": {},
   "outputs": [
    {
     "name": "stdout",
     "output_type": "stream",
     "text": [
      "Objekt 1: 1, Objekt 2: zwei, Objekt 3: 12.3\n"
     ]
    }
   ],
   "source": [
    "# Mehrere Objekte:\n",
    "print('Objekt 1: {a}, Objekt 2: {b}, Objekt 3: {c}' .format(a=1,b='zwei',c=12.3))"
   ]
  },
  {
   "cell_type": "markdown",
   "metadata": {},
   "source": [
    "These are the basics of string formatting. Remember that Python 2 uses the print \"...\" statement, not the print function!"
   ]
  }
 ],
 "metadata": {
  "interpreter": {
   "hash": "1f13f79a6af6271c7cb508a5eefcb6e72f43a80d6f14d8e1e3a796aa8f91c0c4"
  },
  "kernelspec": {
   "display_name": "Python 3 (ipykernel)",
   "language": "python",
   "name": "python3"
  },
  "language_info": {
   "codemirror_mode": {
    "name": "ipython",
    "version": 3
   },
   "file_extension": ".py",
   "mimetype": "text/x-python",
   "name": "python",
   "nbconvert_exporter": "python",
   "pygments_lexer": "ipython3",
   "version": "3.11.4"
  }
 },
 "nbformat": 4,
 "nbformat_minor": 4
}
