{
 "cells": [
  {
   "cell_type": "markdown",
   "metadata": {
    "collapsed": true,
    "jupyter": {
     "outputs_hidden": true
    }
   },
   "source": [
    "# Object Oriented Programming\n",
    "\n",
    "**Object Oriented Programming (OOP)** is one of the biggest challenges for beginners when learning to program Python. \n",
    "\n",
    "There are many, really many exercises and lessons that cover OOP. You can just google it for additional material. I'll also put some useful links to other exercises at the end of this notebook.\n",
    "\n",
    "We will base this lesson's knowledge of OOP on the following topics:\n",
    "\n",
    "* objects\n",
    "* Using the `class` keyword.\n",
    "* Creating class attributes\n",
    "* Creating methods in class\n",
    "* Learning about inheritance\n",
    "* Special methods for classes\n",
    "\n",
    "Let's start this lesson by recalling our knowledge of basic Python objects. For example:"
   ]
  },
  {
   "cell_type": "code",
   "execution_count": 1,
   "metadata": {},
   "outputs": [],
   "source": [
    "l = [1,2,3]"
   ]
  },
  {
   "cell_type": "markdown",
   "metadata": {},
   "source": [
    "Remember how we apply methods to a list?"
   ]
  },
  {
   "cell_type": "code",
   "execution_count": 2,
   "metadata": {},
   "outputs": [],
   "source": [
    "l.count(2)\n",
    "l.append(43)"
   ]
  },
  {
   "cell_type": "markdown",
   "metadata": {},
   "source": [
    "What we will mainly study this lesson is how to create an object like this. We have already learned how to create functions. So let's first look at objects in general:\n",
    "\n",
    "## Objects\n",
    "\n",
    "In Python, everything is an object. Remember that in previous lessons we use type() to check what type an object is:"
   ]
  },
  {
   "cell_type": "code",
   "execution_count": 7,
   "metadata": {},
   "outputs": [
    {
     "name": "stdout",
     "output_type": "stream",
     "text": [
      "<class 'int'>\n",
      "<class 'list'>\n",
      "<class 'dict'>\n",
      "<class 'tuple'>\n",
      "<class 'set'>\n",
      "<class 'tuple'>\n"
     ]
    }
   ],
   "source": [
    "print(type(1))\n",
    "print(type([]))\n",
    "print(type({}))\n",
    "print(type(()))\n",
    "print(type(set()))\n",
    "\n",
    "a = (2,5)\n",
    "print(type(a))"
   ]
  },
  {
   "cell_type": "markdown",
   "metadata": {},
   "source": [
    "So we know that all these things are objects. Now how can we create our own objects? This is where the `class` keyword comes in.\n",
    "\n",
    "## class\n",
    "\n",
    "The user-defined objects are created by the `class` keyword. class is a blueprint that captures the properties of a future object. From classes we can construct instances. An instance is a specified object created from a particular class. For example, we created l above that is an instance of a Listen object.\n",
    "\n",
    "Let's see how we use class:"
   ]
  },
  {
   "cell_type": "code",
   "execution_count": 18,
   "metadata": {},
   "outputs": [
    {
     "name": "stdout",
     "output_type": "stream",
     "text": [
      "x <class '__main__.Example'> 2452551020752\n",
      "y <class '__main__.Example'> 2452551022768\n",
      "y hallo Welt\n",
      "hallo Welt\n",
      "Auf wieder sehen Welt\n",
      "y hallo Welt\n",
      "x <class '__main__.Example'> 2452551020752\n",
      "y <class '__main__.Example'> 2452551020752\n",
      "y Auf wieder sehen Welt\n"
     ]
    }
   ],
   "source": [
    "# Create a new object type called Example\n",
    "class Example(object):\n",
    "    def __init__(self):\n",
    "        self.text = \"hallo Welt\"\n",
    "\n",
    "\n",
    "\n",
    "# Instance from example\n",
    "\n",
    "x = Example()\n",
    "y = Example()\n",
    "\n",
    "print(\"x\",type(x),id(x))\n",
    "print(\"y\",type(y),id(y))\n",
    "\n",
    "print(\"y\" ,y.text)\n",
    "\n",
    "print(x.text)\n",
    "x.text = \"Auf wieder sehen Welt\"\n",
    "print(x.text)\n",
    "\n",
    "\n",
    "print(\"y\" ,y.text)\n",
    "\n",
    "y = x\n",
    "print(\"x\",type(x),id(x))\n",
    "print(\"y\", type(y),id(y))\n",
    "\n",
    "print(\"y\" ,y.text)"
   ]
  },
  {
   "cell_type": "code",
   "execution_count": 29,
   "metadata": {},
   "outputs": [
    {
     "name": "stdout",
     "output_type": "stream",
     "text": [
      "Kratzbaum\n",
      "Wollknäul\n"
     ]
    }
   ],
   "source": [
    "class Cat(object):\n",
    "    def __init__(self,name,alter,toys=[]):\n",
    "        self.name = name\n",
    "        self.alter = alter\n",
    "        self.toys = [\"Kratzbaum\"] + toys\n",
    "\n",
    "\n",
    "tom = Cat(\"Tom\",4)\n",
    "tom.toys.append(\"Wollknäul\")\n",
    "\n",
    "for t in tom.toys:\n",
    "    print(t)\n"
   ]
  },
  {
   "cell_type": "markdown",
   "metadata": {},
   "source": [
    "Typically, we give classes a name that starts with a capital letter. Notice how x is now a reference for our new instance of the example class. \n",
    "\n",
    "Inside the class we currently only have `pass`. However, we can also define class attributes and methods.\n",
    "\n",
    "An attribute is a characteristic of an object. A method is an operation that we can apply to the object.\n",
    "\n",
    "For example, we can create a class called dog. For example, an attribute could be the breed or name, while a method of the dog could be bark(). \n",
    "\n",
    "Let's get a better understanding of this by looking at an example:\n",
    "\n",
    "## Attributes\n",
    "\n",
    "The syntax for an attribute is:\n",
    "    \n",
    "    self.attribute = something\n",
    "    \n",
    "There is a special method called:\n",
    "\n",
    "    __init__()\n",
    "    \n",
    "This method is used to initiate the attribute of an object. For example:"
   ]
  },
  {
   "cell_type": "code",
   "execution_count": 5,
   "metadata": {},
   "outputs": [],
   "source": [
    "class Dog(object):\n",
    "    def __init__(self,breed):\n",
    "        self.breed = breed\n",
    "    \n",
    "sam = Dog(breed=\"Labrador\")\n",
    "frank = Dog(breed=\"Huskie\")"
   ]
  },
  {
   "cell_type": "markdown",
   "metadata": {},
   "source": [
    "Let's break down what we did. The special method\n",
    "\n",
    "    __init__()\n",
    "    \n",
    "is called automatically as soon as the object is created:\n",
    "\n",
    "    def __init__(self,breed):\n",
    "    \n",
    "Every attribute in a class definition starts with a reference to the instance object. Usually it is called `self`. The breed is the argument. The value is passed during class creation.\n",
    "\n",
    "    self.breed = breed\n",
    "    \n",
    "Now we have created two instances of the dog class. With two breeds. To call these attributes we can now do the following:"
   ]
  },
  {
   "cell_type": "code",
   "execution_count": 6,
   "metadata": {},
   "outputs": [
    {
     "data": {
      "text/plain": [
       "'Labrador'"
      ]
     },
     "execution_count": 6,
     "metadata": {},
     "output_type": "execute_result"
    }
   ],
   "source": [
    "sam.breed"
   ]
  },
  {
   "cell_type": "code",
   "execution_count": 7,
   "metadata": {},
   "outputs": [
    {
     "data": {
      "text/plain": [
       "'Huskie'"
      ]
     },
     "execution_count": 7,
     "metadata": {},
     "output_type": "execute_result"
    }
   ],
   "source": [
    "frank.breed"
   ]
  },
  {
   "cell_type": "markdown",
   "metadata": {},
   "source": [
    "It is noteworthy at this point that we have not used brackets after race. This is because it is an attribute. These do not take parameters.\n",
    "\n",
    "In Python, there are also classes object attributes. These classes object attributes apply to all instances of that class. For example, for the class dog, we might introduce an attribute called species. Dogs, regardless of their breed or name, are always one thing for sure: mammal. We implement this logic as follows:"
   ]
  },
  {
   "cell_type": "code",
   "execution_count": 8,
   "metadata": {},
   "outputs": [],
   "source": [
    "class Dog(object):\n",
    "    \n",
    "    # Classes Object Attribute\n",
    "    spezies = \"mammal\"\n",
    "    \n",
    "    def __init__(self,breed,name):\n",
    "        self.breed = breed\n",
    "        self.name = name"
   ]
  },
  {
   "cell_type": "code",
   "execution_count": 9,
   "metadata": {},
   "outputs": [],
   "source": [
    "sam = Dog(\"Labrador\",\"Sam\")"
   ]
  },
  {
   "cell_type": "code",
   "execution_count": 10,
   "metadata": {},
   "outputs": [
    {
     "data": {
      "text/plain": [
       "'Sam'"
      ]
     },
     "execution_count": 10,
     "metadata": {},
     "output_type": "execute_result"
    }
   ],
   "source": [
    "sam.name"
   ]
  },
  {
   "cell_type": "markdown",
   "metadata": {},
   "source": [
    "It is important that the class object attribute is defined outside of any methods in the class. Usually we place it before the init."
   ]
  },
  {
   "cell_type": "code",
   "execution_count": 11,
   "metadata": {},
   "outputs": [
    {
     "data": {
      "text/plain": [
       "'mammal'"
      ]
     },
     "execution_count": 11,
     "metadata": {},
     "output_type": "execute_result"
    }
   ],
   "source": [
    "sam.spezies"
   ]
  },
  {
   "cell_type": "markdown",
   "metadata": {},
   "source": [
    "## Methods\n",
    "\n",
    "Methods are functions defined within the body of a class. They are used to perform operations on the attributes of our objects. Methods are crucial in the encapsulation concept of the OOP paradigm. This is critical when distributing responsibilities in programming, especially in large applications.\n",
    "\n",
    "You can basically think of methods as being functions on an object that consider the object itself through the self argument.\n",
    "\n",
    "Let's go through a circle class as an example:"
   ]
  },
  {
   "cell_type": "code",
   "execution_count": 31,
   "metadata": {},
   "outputs": [
    {
     "name": "stdout",
     "output_type": "stream",
     "text": [
      "The surface is: 12.56\n",
      "The surface is: 78.5\n"
     ]
    }
   ],
   "source": [
    "class Circle(object):\n",
    "    pi = 3.14\n",
    "    \n",
    "    # A circle has a radius that is 1 by default\n",
    "    def __init__(self,radius=1):\n",
    "        self.radius = radius\n",
    "        \n",
    "    # The flat method calculates the area. Pay attention to the use of self.\n",
    "    def surface(self):\n",
    "        return self.radius * self.radius * Circle.pi\n",
    "    \n",
    "    # Method to define the radius\n",
    "    def radiusSetting(self,radius):\n",
    "        self.radius = radius\n",
    "        \n",
    "    # method to read the radius (same as calling .radius)\n",
    "    def radiusGet(self):\n",
    "        return self.radius\n",
    "    \n",
    "c = Circle(2)\n",
    "b = Circle(5)\n",
    "print(\"The surface is:\",c.surface())\n",
    "print(\"The surface is:\",b.surface())"
   ]
  },
  {
   "cell_type": "code",
   "execution_count": 13,
   "metadata": {},
   "outputs": [
    {
     "name": "stdout",
     "output_type": "stream",
     "text": [
      "The surface is: 314.0\n"
     ]
    }
   ],
   "source": [
    "c.radiusSetting(10)\n",
    "print(\"The surface is:\",c.surface())"
   ]
  },
  {
   "cell_type": "code",
   "execution_count": 14,
   "metadata": {},
   "outputs": [],
   "source": [
    "d = Circle()"
   ]
  },
  {
   "cell_type": "code",
   "execution_count": 15,
   "metadata": {},
   "outputs": [
    {
     "data": {
      "text/plain": [
       "3.14"
      ]
     },
     "execution_count": 15,
     "metadata": {},
     "output_type": "execute_result"
    }
   ],
   "source": [
    "d.surface()"
   ]
  },
  {
   "cell_type": "code",
   "execution_count": 16,
   "metadata": {},
   "outputs": [],
   "source": [
    "d.pi = 3.1456789"
   ]
  },
  {
   "cell_type": "code",
   "execution_count": 17,
   "metadata": {},
   "outputs": [
    {
     "data": {
      "text/plain": [
       "3.14"
      ]
     },
     "execution_count": 17,
     "metadata": {},
     "output_type": "execute_result"
    }
   ],
   "source": [
    "d.surface()"
   ]
  },
  {
   "cell_type": "markdown",
   "metadata": {},
   "source": [
    "Great! Notice how we used the self notation to take reference to attributes within the method. Take another look at exactly how the above code works.\n",
    "\n",
    "## Inheritance\n",
    "\n",
    "Inheritance is a way to create new classes through existing classes. The newly created classes are called derived classes. The classes that are taken as reference we call base classes. Important advantages of inheritance are code reuse and reduction of complexity in the program. The derived classes override or extend the functionality of the base classes. \n",
    "\n",
    "Let's go through an example with reference to our dog class:"
   ]
  },
  {
   "cell_type": "code",
   "execution_count": 3,
   "metadata": {},
   "outputs": [],
   "source": [
    "class Animal(object):\n",
    "    def __init__(self):\n",
    "        print(\"Create animal\")\n",
    "        \n",
    "    def whoAmI(self):\n",
    "        print(\"Animal\")\n",
    "        \n",
    "    def eat(self):\n",
    "        print(\"Eat\")\n",
    "        \n",
    "class Dog(Animal):\n",
    "    def __init__(self):\n",
    "        Animal.__init__(self)\n",
    "        print(\"Create Dog\")\n",
    "\n",
    "    def whoAmI(self):\n",
    "        print(\"Dog\")\n",
    "\n",
    "    def bark(self):\n",
    "        print(\"Woof!\")"
   ]
  },
  {
   "cell_type": "code",
   "execution_count": 4,
   "metadata": {},
   "outputs": [
    {
     "name": "stdout",
     "output_type": "stream",
     "text": [
      "Create animal\n",
      "Create Dog\n"
     ]
    }
   ],
   "source": [
    "d = Dog()"
   ]
  },
  {
   "cell_type": "code",
   "execution_count": 20,
   "metadata": {},
   "outputs": [
    {
     "name": "stdout",
     "output_type": "stream",
     "text": [
      "Dog\n"
     ]
    }
   ],
   "source": [
    "d.whoAmI()"
   ]
  },
  {
   "cell_type": "code",
   "execution_count": 21,
   "metadata": {},
   "outputs": [
    {
     "name": "stdout",
     "output_type": "stream",
     "text": [
      "Eat\n"
     ]
    }
   ],
   "source": [
    "d.eat()"
   ]
  },
  {
   "cell_type": "code",
   "execution_count": 22,
   "metadata": {},
   "outputs": [
    {
     "name": "stdout",
     "output_type": "stream",
     "text": [
      "Woof!\n"
     ]
    }
   ],
   "source": [
    "d.bark()"
   ]
  },
  {
   "cell_type": "markdown",
   "metadata": {},
   "source": [
    "In this example we have two classes: Animal and Dog. The animal is the base class, the dog is the derived class,\n",
    "\n",
    "The derived class inherits the functionality of the base class.\n",
    "\n",
    "* As seen in the `eat()` method.\n",
    "\n",
    "The derived class processes already existing behavior of the base class.\n",
    "\n",
    "* As seen in the `whoAmI()` method.\n",
    "\n",
    "Last but not least extends the functionality of the base class.\n",
    "\n",
    "* Can be seen in the `bark()` method.\n",
    "\n",
    "## Special methods\n",
    "\n",
    "Finally, we can talk about special methods. Classes in Python can implement certain operations with special method names. These methods are not actually called directly, but with Python internal syntax. Let's create a book class as an example:"
   ]
  },
  {
   "cell_type": "code",
   "execution_count": null,
   "metadata": {},
   "outputs": [],
   "source": [
    "jshdkjsahd.sabdmsdb()"
   ]
  },
  {
   "cell_type": "code",
   "execution_count": 23,
   "metadata": {},
   "outputs": [],
   "source": [
    "class Book(object):\n",
    "    def __init__(self, title, author, pages):\n",
    "        print(\"A book was written!\")\n",
    "        self.title = title\n",
    "        self.author = author\n",
    "        self.pages = pages\n",
    "        \n",
    "    def __str__(self):\n",
    "        return \"Title:%s , Author:%s , Pages:%s\" %(self.title, self.author, self.pages)\n",
    "        \n",
    "    def __len__(self):\n",
    "        return self.pages\n",
    "    \n",
    "    def __del__(self):\n",
    "        print(\"A book was destroyed!\")"
   ]
  },
  {
   "cell_type": "code",
   "execution_count": 24,
   "metadata": {},
   "outputs": [
    {
     "name": "stdout",
     "output_type": "stream",
     "text": [
      "A book was written!\n"
     ]
    }
   ],
   "source": [
    "buch = Book(\"Python rockt!\",\"Dr. Brunner\",987)"
   ]
  },
  {
   "cell_type": "code",
   "execution_count": 25,
   "metadata": {},
   "outputs": [
    {
     "name": "stdout",
     "output_type": "stream",
     "text": [
      "A book was written!\n"
     ]
    }
   ],
   "source": [
    "book = Book(\"DigiTec.Pilot\", \"Florian Pramme\", 100)"
   ]
  },
  {
   "cell_type": "code",
   "execution_count": 26,
   "metadata": {},
   "outputs": [
    {
     "name": "stdout",
     "output_type": "stream",
     "text": [
      "Python rockt!\n",
      "DigiTec.Pilot\n"
     ]
    }
   ],
   "source": [
    "print(buch.title)\n",
    "print(book.title)"
   ]
  },
  {
   "cell_type": "code",
   "execution_count": 27,
   "metadata": {},
   "outputs": [
    {
     "name": "stdout",
     "output_type": "stream",
     "text": [
      "A book was destroyed!\n"
     ]
    }
   ],
   "source": [
    "del buch"
   ]
  },
  {
   "cell_type": "code",
   "execution_count": 28,
   "metadata": {},
   "outputs": [
    {
     "data": {
      "text/plain": [
       "'Florian Pramme'"
      ]
     },
     "execution_count": 28,
     "metadata": {},
     "output_type": "execute_result"
    }
   ],
   "source": [
    "book.author"
   ]
  },
  {
   "cell_type": "code",
   "execution_count": 29,
   "metadata": {},
   "outputs": [
    {
     "name": "stdout",
     "output_type": "stream",
     "text": [
      "A book was written!\n"
     ]
    }
   ],
   "source": [
    "example = Book(None, None, None)"
   ]
  },
  {
   "cell_type": "code",
   "execution_count": 30,
   "metadata": {},
   "outputs": [],
   "source": [
    "example.author = \"Hello\""
   ]
  },
  {
   "cell_type": "code",
   "execution_count": 31,
   "metadata": {},
   "outputs": [
    {
     "data": {
      "text/plain": [
       "'Hello'"
      ]
     },
     "execution_count": 31,
     "metadata": {},
     "output_type": "execute_result"
    }
   ],
   "source": [
    "example.author"
   ]
  },
  {
   "cell_type": "code",
   "execution_count": 6,
   "metadata": {},
   "outputs": [
    {
     "name": "stdout",
     "output_type": "stream",
     "text": [
      "\n"
     ]
    }
   ],
   "source": [
    "def markov_algorithm(input_str):\n",
    "    rules = [\n",
    "        (\"a0\", \"0a\"),\n",
    "        (\"a1\", \"1a\"),\n",
    "        (\"1a\", \"\"),\n",
    "        (\"0a\", \"\"),\n",
    "        (\"1\", \"a1\"),\n",
    "        (\"0\", \"a0\")\n",
    "    ]\n",
    "    \n",
    "    while True:\n",
    "        rule_applied = False\n",
    "        for old, new in rules:\n",
    "            if old in input_str:\n",
    "                input_str = input_str.replace(old, new, 1)\n",
    "                rule_applied = True\n",
    "                break\n",
    "        if not rule_applied:\n",
    "            break\n",
    "    \n",
    "    return input_str\n",
    "\n",
    "# Example\n",
    "print(markov_algorithm(\"101101\"))  # The final output may vary depending on the replacement rules.\n"
   ]
  },
  {
   "cell_type": "code",
   "execution_count": 32,
   "metadata": {},
   "outputs": [
    {
     "name": "stdout",
     "output_type": "stream",
     "text": [
      "A book was written!\n",
      "Title:Python rockt! , Author:Dr. Brunner , Pages:987\n",
      "987\n",
      "A book was destroyed!\n"
     ]
    }
   ],
   "source": [
    "buch = Book(\"Python rockt!\",\"Dr. Brunner\",987)\n",
    "\n",
    "# Spezielle Methoden\n",
    "print(buch)\n",
    "print(len(buch))\n",
    "del buch"
   ]
  },
  {
   "cell_type": "markdown",
   "metadata": {},
   "source": [
    "These special methods are defined by underscores. They allow us to apply Python specific functions to objects created by our class.\n",
    "\n",
    "**Great! After this lesson, you should have an understanding of how to create your own objects using class. You'll make heavy use of it in your next milestone project."
   ]
  }
 ],
 "metadata": {
  "kernelspec": {
   "display_name": "Python 3 (ipykernel)",
   "language": "python",
   "name": "python3"
  },
  "language_info": {
   "codemirror_mode": {
    "name": "ipython",
    "version": 3
   },
   "file_extension": ".py",
   "mimetype": "text/x-python",
   "name": "python",
   "nbconvert_exporter": "python",
   "pygments_lexer": "ipython3",
   "version": "3.12.4"
  },
  "vscode": {
   "interpreter": {
    "hash": "b6f32b27ef9c6af4eadce4d8c206da46e02e62476a2cc472d572e1930ebdcb4b"
   }
  }
 },
 "nbformat": 4,
 "nbformat_minor": 4
}
