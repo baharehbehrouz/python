{
 "cells": [
  {
   "cell_type": "code",
   "execution_count": null,
   "id": "a1d76871",
   "metadata": {},
   "outputs": [],
   "source": [
    "import tkinter as tk\n",
    "\n",
    "class CalculatorApp:\n",
    "    def __init__(self, master):\n",
    "        self.master = master\n",
    "        master.title(\"ماشین حساب\")\n",
    "        master.geometry(\"400x400\")\n",
    "\n",
    "        self.display = tk.Entry(master, width=20, font=('Arial', 20))\n",
    "        self.display.grid(row=0, column=0, columnspan=4, padx=10, pady=10)\n",
    "\n",
    "        buttons = [\n",
    "            '7', '8', '9', '/',\n",
    "            '4', '5', '6', '*',\n",
    "            '1', '2', '3', '-',\n",
    "            '0', '.', '=', '+',\n",
    "        ]\n",
    "\n",
    "        row_index = 1\n",
    "        col_index = 0\n",
    "\n",
    "        for button in buttons:\n",
    "            btn = tk.Button(master, text=button, width=4, height=2, font=('Arial', 15), command=lambda b=button: self.press(b))\n",
    "            btn.grid(row=row_index, column=col_index, padx=5, pady=5)\n",
    "            btn.config(bg=\"blue\")\n",
    "            col_index += 1\n",
    "            if col_index > 3:\n",
    "                col_index = 0\n",
    "                row_index += 1\n",
    "\n",
    "    def press(self, key):\n",
    "        current = self.display.get()\n",
    "        if key == '=':\n",
    "            try:\n",
    "                result = str(eval(current))\n",
    "                self.display.delete(0, tk.END)\n",
    "                self.display.insert(tk.END, result)\n",
    "            except:\n",
    "                self.display.delete(0, tk.END)\n",
    "                self.display.insert(tk.END, \"Error\")\n",
    "        elif key == 'C':\n",
    "            self.display.delete(0, tk.END)\n",
    "        else:\n",
    "            self.display.insert(tk.END, key)\n",
    "\n",
    "root = tk.Tk()\n",
    "app = CalculatorApp(root)\n",
    "root.mainloop()\n"
   ]
  }
 ],
 "metadata": {
  "kernelspec": {
   "display_name": "Python 3 (ipykernel)",
   "language": "python",
   "name": "python3"
  },
  "language_info": {
   "codemirror_mode": {
    "name": "ipython",
    "version": 3
   },
   "file_extension": ".py",
   "mimetype": "text/x-python",
   "name": "python",
   "nbconvert_exporter": "python",
   "pygments_lexer": "ipython3",
   "version": "3.11.4"
  }
 },
 "nbformat": 4,
 "nbformat_minor": 5
}
