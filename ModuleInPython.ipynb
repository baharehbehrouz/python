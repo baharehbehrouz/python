{
 "cells": [
  {
   "cell_type": "code",
   "execution_count": 1,
   "id": "146645b7-4706-44f5-9ce3-19bd911f0694",
   "metadata": {},
   "outputs": [],
   "source": [
    "\n",
    "# ===============================\n",
    "# 🔰 What is a module in Python?\n",
    "# ===============================\n",
    "# A module is a separate Python file (.py) where you can define functions or classes.\n",
    "# You can reuse them in your main project by importing.\n",
    "# Purpose: better code organization and reusability.\n",
    "\n",
    "# -------------------------------------------------------------\n",
    "# ✅ Step 1: Create a module file (e.g., utils.py)\n"
   ]
  },
  {
   "cell_type": "code",
   "execution_count": 7,
   "id": "e437055c-572b-4049-93f7-0cf6b53391de",
   "metadata": {},
   "outputs": [],
   "source": [
    "code = \"\"\"\n",
    "def calculate_average(grades):\n",
    "    if not grades:\n",
    "        return 0\n",
    "    return sum(grades) / len(grades)\n",
    "\"\"\"\n",
    "\n",
    "with open(\"utils.py\", \"w\") as file:\n",
    "    file.write(code)\n"
   ]
  },
  {
   "cell_type": "code",
   "execution_count": 9,
   "id": "a954e9ac-e1b8-4341-ba6d-3e550ceda7e9",
   "metadata": {},
   "outputs": [
    {
     "data": {
      "text/plain": [
       "18.5"
      ]
     },
     "execution_count": 9,
     "metadata": {},
     "output_type": "execute_result"
    }
   ],
   "source": [
    "import utils\n",
    "utils.calculate_average([17, 18.5, 20])\n"
   ]
  },
  {
   "cell_type": "code",
   "execution_count": 11,
   "id": "b834a692-4ec4-44f1-b7fc-bdc9328976d4",
   "metadata": {},
   "outputs": [],
   "source": [
    "# 🛠️ In this cell, we create a file named utils.py and define a GPA calculation function inside it.\n",
    "\n",
    "# %%writefile utils.py\n",
    "with open(\"utils.py\", \"w\") as f:\n",
    "    f.write(\"\"\"\n",
    "def calculate_average(grades):\n",
    "    if not grades:\n",
    "        return 0\n",
    "    return sum(grades) / len(grades)\n",
    "\"\"\")\n",
    "\n",
    "def calculate_average(grades):\n",
    "    \"\"\"\n",
    "    Function to calculate the average (GPA)\n",
    "    Input: list of grades\n",
    "    Output: average value\n",
    "    \"\"\"\n",
    "    if not grades:\n",
    "        return 0\n",
    "    return sum(grades) / len(grades)\n"
   ]
  },
  {
   "cell_type": "code",
   "execution_count": 3,
   "id": "df1b4aad-6955-4588-a6c4-b406cfb538b1",
   "metadata": {},
   "outputs": [],
   "source": [
    "# -------------------------------------------------------------\n",
    "# ✅ Step 2: Use the module in your main file\n"
   ]
  },
  {
   "cell_type": "code",
   "execution_count": 12,
   "id": "4633d228-7ac1-471a-8795-d34bed2d2728",
   "metadata": {},
   "outputs": [
    {
     "name": "stdout",
     "output_type": "stream",
     "text": [
      "Student GPA: 18.75\n"
     ]
    }
   ],
   "source": [
    "# Now we import the utils module and use the function inside it.\n",
    "\n",
    "import utils\n",
    "\n",
    "grades = [18.5, 17, 20, 19.5]\n",
    "average = utils.calculate_average(grades)\n",
    "\n",
    "print(\"Student GPA:\", average)\n"
   ]
  },
  {
   "cell_type": "code",
   "execution_count": 13,
   "id": "01773f0e-6946-4f5d-af5e-27077d0d4099",
   "metadata": {},
   "outputs": [],
   "source": [
    "# -------------------------------------------------------------\n",
    "# ✨ Why use modules?\n",
    "# - Keeps your main code clean and organized\n",
    "# - Makes functions reusable across projects\n",
    "# - Improves readability and maintenance\n",
    "# - Easier to test and debug\n"
   ]
  },
  {
   "cell_type": "code",
   "execution_count": null,
   "id": "9eaceb11-dfa7-416b-aece-16a42cea72cf",
   "metadata": {},
   "outputs": [],
   "source": []
  }
 ],
 "metadata": {
  "kernelspec": {
   "display_name": "Python 3 (ipykernel)",
   "language": "python",
   "name": "python3"
  },
  "language_info": {
   "codemirror_mode": {
    "name": "ipython",
    "version": 3
   },
   "file_extension": ".py",
   "mimetype": "text/x-python",
   "name": "python",
   "nbconvert_exporter": "python",
   "pygments_lexer": "ipython3",
   "version": "3.12.4"
  }
 },
 "nbformat": 4,
 "nbformat_minor": 5
}
