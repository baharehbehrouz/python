{
 "cells": [
  {
   "cell_type": "markdown",
   "metadata": {
    "collapsed": true,
    "jupyter": {
     "outputs_hidden": true
    }
   },
   "source": [
    "# Functions\n",
    "\n",
    "## Introduction to functions\n",
    "\n",
    "This lesson will cover what a function is in Python and how to create them. Functions will be one of our main components as we write more and more extensive code. \n",
    "\n",
    "In other programming languages they are also known as subroutines, routines, procedures, methods and subroutines. \n",
    "\n",
    "<b>So what are functions in Python?</b>\n",
    "\n",
    "Formally, a function is a useful tool for grouping individual statements so that they can be called more than once. You can also define parameters that we can use as input to the function.\n",
    "\n",
    "From a very basic point of view, functions allow us to avoid having to write the same code over and over again. If you think back to our lesson on strings and lists in Python, remember the len() function we used to get the length of a string or list. Since checking the length of a sequence is a recurring task, it is thus one such task that we would want to put into a function.\n",
    "\n",
    "### The advantages of functions\n",
    "\n",
    "Two important advantages for programming or software development arise from their properties:\n",
    "\n",
    "* The use of functions increases the comprehensibility and quality of a program or script.\n",
    "* In addition, the use of functions also reduces the cost of software development and maintenance.\n",
    "\n",
    "Functions will be one of the easiest ways to reuse code in Python. And it will allow us to think about program design (which we will talk about in much more detail later, once we get to OOP).\n",
    "\n",
    "## def statements\n",
    "\n",
    "Here's how a function is structured in Python:"
   ]
  },
  {
   "cell_type": "code",
   "execution_count": 1,
   "metadata": {},
   "outputs": [],
   "source": [
    "def name_der_funktion(par1,par2):\n",
    "    '''\n",
    "    This is where the description (doc-string) of a function goes\n",
    "    '''\n",
    "    # Do things here\n",
    "    # Output desired result"
   ]
  },
  {
   "cell_type": "code",
   "execution_count": 2,
   "metadata": {},
   "outputs": [],
   "source": [
    "def add(a,b):\n",
    "    '''\n",
    "    This function expects two values and returns the addtion\n",
    "    of these values\n",
    "    '''\n",
    "    return a+b\n",
    "\n",
    "def mult(a,b):\n",
    "    return a*b"
   ]
  },
  {
   "cell_type": "code",
   "execution_count": 3,
   "metadata": {},
   "outputs": [
    {
     "data": {
      "text/plain": [
       "11340"
      ]
     },
     "execution_count": 3,
     "metadata": {},
     "output_type": "execute_result"
    }
   ],
   "source": [
    "mult(27,420)"
   ]
  },
  {
   "cell_type": "code",
   "execution_count": 4,
   "metadata": {},
   "outputs": [
    {
     "name": "stdout",
     "output_type": "stream",
     "text": [
      "Help on function add in module __main__:\n",
      "\n",
      "add(a, b)\n",
      "    This function expects two values and returns the addtion\n",
      "    of these values\n",
      "\n"
     ]
    }
   ],
   "source": [
    "help(add)"
   ]
  },
  {
   "cell_type": "markdown",
   "metadata": {},
   "source": [
    "We start with `def` followed by a space and the name of the function. The names should be chosen as precise and unique as possible. An example is the len() name for a length() function. Also, be careful not to use names that are occupied by pre-installed (built-in) Python functions (such as len).\n",
    "\n",
    "Next comes a pair of parentheses containing the parameters, each separated by commas. These parameters are the input to your function. We can use them inside the function and refer to them. After that we put a colon.\n",
    "\n",
    "This is followed by the description (doc-string) of the function. This provides a brief description of the function and what it does. By using iPython and the notebooks, we can read this description by pressing Shift + Tab after a function name. Descriptions are not necessary for simple functions, but it is a best practice to include them so that you yourself or other people can quickly understand the code.\n",
    "\n",
    "After all that, you start writing the actual code to run.\n",
    "\n",
    "The best way to learn functions is to look at some examples. So let's do this and refer to some objects and data structures that we have already learned about.\n",
    "\n",
    "### Example 1: A simple print 'hello' function:"
   ]
  },
  {
   "cell_type": "code",
   "execution_count": 5,
   "metadata": {},
   "outputs": [],
   "source": [
    "def say_hello():\n",
    "    print('Hello')"
   ]
  },
  {
   "cell_type": "code",
   "execution_count": 6,
   "metadata": {},
   "outputs": [
    {
     "name": "stdout",
     "output_type": "stream",
     "text": [
      "Hello\n"
     ]
    }
   ],
   "source": [
    "# Funktion ausführen\n",
    "say_hello()"
   ]
  },
  {
   "cell_type": "markdown",
   "metadata": {},
   "source": [
    "### Example 2: A simple greeting function that greets people by name"
   ]
  },
  {
   "cell_type": "code",
   "execution_count": 7,
   "metadata": {},
   "outputs": [],
   "source": [
    "def greet(name):\n",
    "    print('Hello', name)"
   ]
  },
  {
   "cell_type": "code",
   "execution_count": 8,
   "metadata": {},
   "outputs": [
    {
     "name": "stdout",
     "output_type": "stream",
     "text": [
      "Hello Florian\n",
      "Hello Digitec\n"
     ]
    }
   ],
   "source": [
    "#Funktion ausführen\n",
    "greet('Florian')\n",
    "greet(\"Digitec\")"
   ]
  },
  {
   "cell_type": "markdown",
   "metadata": {},
   "source": [
    "## using return\n",
    "\n",
    "Let's look at some examples that use the return statement. `return` allows a function to return a result, which can then be stored as a variable or used in any other way.\n",
    "\n",
    "### Example 3: Addition function"
   ]
  },
  {
   "cell_type": "code",
   "execution_count": 9,
   "metadata": {},
   "outputs": [],
   "source": [
    "def add_num(num1,num2):\n",
    "    return num1+num2"
   ]
  },
  {
   "cell_type": "code",
   "execution_count": 10,
   "metadata": {},
   "outputs": [
    {
     "data": {
      "text/plain": [
       "19"
      ]
     },
     "execution_count": 10,
     "metadata": {},
     "output_type": "execute_result"
    }
   ],
   "source": [
    "add_num(4,15)"
   ]
  },
  {
   "cell_type": "code",
   "execution_count": 11,
   "metadata": {},
   "outputs": [],
   "source": [
    "# We can also save the result as a variable\n",
    "ergebnis = add_num(3,7)"
   ]
  },
  {
   "cell_type": "code",
   "execution_count": 12,
   "metadata": {},
   "outputs": [
    {
     "name": "stdout",
     "output_type": "stream",
     "text": [
      "10\n"
     ]
    }
   ],
   "source": [
    "print(ergebnis)"
   ]
  },
  {
   "cell_type": "code",
   "execution_count": 13,
   "metadata": {},
   "outputs": [
    {
     "name": "stdout",
     "output_type": "stream",
     "text": [
      "OneTwo\n"
     ]
    }
   ],
   "source": [
    "# What happens if we enter two strings?\n",
    "print(add_num('One','Two'))"
   ]
  },
  {
   "cell_type": "markdown",
   "metadata": {},
   "source": [
    "Note that by not defining variable types in Python, this function can be used to add numbers as well as sequences. We will learn later how to include checks to verify that a user has entered correct parameters into the function. \n",
    "\n",
    "Let's also start using `break`, `continue` and `pass` statements. We introduced them in the while lesson.\n",
    "\n",
    "To do this, we will finish by going through an example that shows a function that checks whether a number is a prime (a common task in job interviews).\n",
    "\n",
    "We know that a number is prime if it is only evenly divisible by 1 and itself. Let's write a first function that checks this using modulo."
   ]
  },
  {
   "cell_type": "code",
   "execution_count": 14,
   "metadata": {},
   "outputs": [],
   "source": [
    "def ist_prim(num):\n",
    "    '''\n",
    "    First method to test prime numbers\n",
    "    '''\n",
    "    for n in range(2,num):\n",
    "        if num % n == 0:\n",
    "            print(\"Not a prime number\")\n",
    "            break\n",
    "    else:\n",
    "        print(\"prime number\")"
   ]
  },
  {
   "cell_type": "code",
   "execution_count": 15,
   "metadata": {},
   "outputs": [
    {
     "name": "stdout",
     "output_type": "stream",
     "text": [
      "prime number\n"
     ]
    }
   ],
   "source": [
    "ist_prim(7)"
   ]
  },
  {
   "cell_type": "markdown",
   "metadata": {},
   "source": [
    "Notice how we use break after the print statement! We can improve on this check by checking for the square root of the target number. Also, we can omit all even numbers once we have checked 2. And in addition, we will switch to Boolean values to see how we use the return statement:"
   ]
  },
  {
   "cell_type": "code",
   "execution_count": 16,
   "metadata": {},
   "outputs": [],
   "source": [
    "import math\n",
    "\n",
    "def ist_prim(num):\n",
    "    '''\n",
    "    Better method to check prime numbers\n",
    "    '''\n",
    "    if num % 2 == 0 and num > 2:\n",
    "        return False\n",
    "    for i in range(3, int(math.sqrt(num)) + 1, 2):\n",
    "        if num % i == 0:\n",
    "            return False\n",
    "    return True"
   ]
  },
  {
   "cell_type": "code",
   "execution_count": 17,
   "metadata": {},
   "outputs": [
    {
     "data": {
      "text/plain": [
       "True"
      ]
     },
     "execution_count": 17,
     "metadata": {},
     "output_type": "execute_result"
    }
   ],
   "source": [
    "ist_prim(13)"
   ]
  },
  {
   "cell_type": "markdown",
   "metadata": {},
   "source": [
    "### Default Arguments\n",
    "You can assign default values to parameters."
   ]
  },
  {
   "cell_type": "code",
   "execution_count": 1,
   "metadata": {},
   "outputs": [
    {
     "name": "stdout",
     "output_type": "stream",
     "text": [
      "Hello Guest!\n",
      "Hello Reza!\n"
     ]
    }
   ],
   "source": [
    "def greet(name=\"Guest\"):\n",
    "    print(f\"Hello {name}!\")\n",
    "\n",
    "greet()  # Without argument\n",
    "greet(\"Reza\")  # With argument\n"
   ]
  },
  {
   "cell_type": "markdown",
   "metadata": {},
   "source": [
    "### Keyword Arguments\n",
    "You can specify arguments by their parameter names.\n"
   ]
  },
  {
   "cell_type": "code",
   "execution_count": 2,
   "metadata": {},
   "outputs": [
    {
     "name": "stdout",
     "output_type": "stream",
     "text": [
      "You ordered: Pizza and Soda\n"
     ]
    }
   ],
   "source": [
    "def order(food, drink):\n",
    "    print(f\"You ordered: {food} and {drink}\")\n",
    "\n",
    "order(food=\"Pizza\", drink=\"Soda\")\n"
   ]
  },
  {
   "cell_type": "markdown",
   "metadata": {},
   "source": [
    "### Variable-Length Arguments (*args)\n",
    "Use *args to pass multiple positional arguments.\n"
   ]
  },
  {
   "cell_type": "code",
   "execution_count": 3,
   "metadata": {},
   "outputs": [
    {
     "name": "stdout",
     "output_type": "stream",
     "text": [
      "15\n"
     ]
    }
   ],
   "source": [
    "def total_sum(*numbers):\n",
    "    return sum(numbers)\n",
    "\n",
    "print(total_sum(1, 2, 3, 4, 5))\n"
   ]
  },
  {
   "cell_type": "markdown",
   "metadata": {},
   "source": [
    "Variable-Length Keyword Arguments (**kwargs)\n",
    "Use **kwargs to pass multiple keyword arguments.\n",
    "\n"
   ]
  },
  {
   "cell_type": "code",
   "execution_count": 5,
   "metadata": {},
   "outputs": [
    {
     "name": "stdout",
     "output_type": "stream",
     "text": [
      "name: Mohammad\n",
      "age: 25\n",
      "city: Tehran\n"
     ]
    }
   ],
   "source": [
    "def show_info(**info):\n",
    "    for key, value in info.items():\n",
    "        print(f\"{key}: {value}\")\n",
    "\n",
    "show_info(name=\"Mohammad\", age=25, city=\"Tehran\")\n"
   ]
  },
  {
   "cell_type": "markdown",
   "metadata": {},
   "source": [
    "### Return Statement (return)\n",
    "Functions can return values using return."
   ]
  },
  {
   "cell_type": "code",
   "execution_count": 6,
   "metadata": {},
   "outputs": [
    {
     "name": "stdout",
     "output_type": "stream",
     "text": [
      "16\n"
     ]
    }
   ],
   "source": [
    "def square(num):\n",
    "    return num ** 2\n",
    "\n",
    "result = square(4)\n",
    "print(result)\n"
   ]
  },
  {
   "cell_type": "markdown",
   "metadata": {},
   "source": [
    "### Recursive Functions\n",
    "A recursive function is a function that calls itself.\n",
    "\n",
    "✅ Example: Calculating Factorial (n!)"
   ]
  },
  {
   "cell_type": "code",
   "execution_count": 7,
   "metadata": {},
   "outputs": [
    {
     "name": "stdout",
     "output_type": "stream",
     "text": [
      "120\n"
     ]
    }
   ],
   "source": [
    "def factorial(n):\n",
    "    if n == 1:\n",
    "        return 1\n",
    "    return n * factorial(n - 1)\n",
    "\n",
    "print(factorial(5))\n"
   ]
  },
  {
   "cell_type": "markdown",
   "metadata": {},
   "source": []
  },
  {
   "cell_type": "code",
   "execution_count": 8,
   "metadata": {},
   "outputs": [
    {
     "name": "stdout",
     "output_type": "stream",
     "text": [
      "25\n"
     ]
    }
   ],
   "source": []
  },
  {
   "cell_type": "markdown",
   "metadata": {},
   "source": [
    "Great! You should now have a basic understanding of how to write your own functions in Python and save yourself from writing the same code over and over again."
   ]
  }
 ],
 "metadata": {
  "kernelspec": {
   "display_name": "Python 3 (ipykernel)",
   "language": "python",
   "name": "python3"
  },
  "language_info": {
   "codemirror_mode": {
    "name": "ipython",
    "version": 3
   },
   "file_extension": ".py",
   "mimetype": "text/x-python",
   "name": "python",
   "nbconvert_exporter": "python",
   "pygments_lexer": "ipython3",
   "version": "3.11.4"
  },
  "vscode": {
   "interpreter": {
    "hash": "b6f32b27ef9c6af4eadce4d8c206da46e02e62476a2cc472d572e1930ebdcb4b"
   }
  }
 },
 "nbformat": 4,
 "nbformat_minor": 4
}
