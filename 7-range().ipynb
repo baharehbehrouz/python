{
 "cells": [
  {
   "cell_type": "markdown",
   "metadata": {
    "collapsed": true,
    "jupyter": {
     "outputs_hidden": true
    }
   },
   "source": [
    "# range()\n",
    "\n",
    "In this short lesson we will discuss the `range` function. We don't have a deep understanding of functions yet, but we can understand the basics of this simple (but extremely useful!) function. \n",
    "\n",
    "range() allows us to create a list of numbers that range from a starting point to an ending point. We can also specify the step size in the process. The syntax of `range` looks like this:\n",
    "\n",
    "    range(start,end,step size)\n",
    "\n",
    "What we have to take care of in Python 3 is that `range` does not give us a list right away. To achieve this we can use the `list` function, which syntactically looks like this:\n",
    "\n",
    "    list(object)\n",
    "\n",
    "We can now go through a few examples:"
   ]
  },
  {
   "cell_type": "code",
   "execution_count": 1,
   "metadata": {},
   "outputs": [
    {
     "data": {
      "text/plain": [
       "[0, 1, 2, 3, 4, 5, 6, 7, 8, 9]"
      ]
     },
     "execution_count": 1,
     "metadata": {},
     "output_type": "execute_result"
    }
   ],
   "source": [
    "list(range(0,10))"
   ]
  },
  {
   "cell_type": "code",
   "execution_count": 2,
   "metadata": {},
   "outputs": [
    {
     "data": {
      "text/plain": [
       "list"
      ]
     },
     "execution_count": 2,
     "metadata": {},
     "output_type": "execute_result"
    }
   ],
   "source": [
    "x = list(range(0,10))\n",
    "type(x)"
   ]
  },
  {
   "cell_type": "code",
   "execution_count": 3,
   "metadata": {},
   "outputs": [],
   "source": [
    "start = 0 # Standard\n",
    "stop = 30\n",
    "step = 2\n",
    "x = list(range(start,stop))"
   ]
  },
  {
   "cell_type": "code",
   "execution_count": 4,
   "metadata": {},
   "outputs": [
    {
     "data": {
      "text/plain": [
       "[0,\n",
       " 1,\n",
       " 2,\n",
       " 3,\n",
       " 4,\n",
       " 5,\n",
       " 6,\n",
       " 7,\n",
       " 8,\n",
       " 9,\n",
       " 10,\n",
       " 11,\n",
       " 12,\n",
       " 13,\n",
       " 14,\n",
       " 15,\n",
       " 16,\n",
       " 17,\n",
       " 18,\n",
       " 19,\n",
       " 20,\n",
       " 21,\n",
       " 22,\n",
       " 23,\n",
       " 24,\n",
       " 25,\n",
       " 26,\n",
       " 27,\n",
       " 28,\n",
       " 29]"
      ]
     },
     "execution_count": 4,
     "metadata": {},
     "output_type": "execute_result"
    }
   ],
   "source": [
    "x"
   ]
  },
  {
   "cell_type": "markdown",
   "metadata": {},
   "source": [
    "Great! Watched how it went up to 20 but didn't include it. Just like indexing. Now how can we pass in the step size? We can pass a third parameter:"
   ]
  },
  {
   "cell_type": "code",
   "execution_count": 5,
   "metadata": {},
   "outputs": [
    {
     "data": {
      "text/plain": [
       "[0, 2, 4, 6, 8, 10, 12, 14, 16, 18, 20, 22, 24, 26, 28]"
      ]
     },
     "execution_count": 5,
     "metadata": {},
     "output_type": "execute_result"
    }
   ],
   "source": [
    "x = list(range(start,stop,step))\n",
    "# Check\n",
    "x"
   ]
  },
  {
   "cell_type": "markdown",
   "metadata": {},
   "source": [
    "Great! That's it...or is it?\n",
    "\n",
    "### Warning: Memory!\n",
    "\n",
    "You might be wondering, what happens when we want to create a huge range of numbers? How can my computer keep it all in memory?\n",
    "\n",
    "Good thinking! This is a dilemma that can be circumvented by using a generator. A simplified explanation: a generator allows the generation of generated objects that are provided in that instance, but are not actually stored in memory.\n",
    "\n",
    "This means that the generator does not create a list, as range() does. Instead, the numbers in the range are generated once. Python 2 has a pre-installed range generator named xrange(). It is recommended to use xrange() for for loops in Python 2.\n",
    "\n",
    "The good news is that range() behaves like a generator in Python 3 and you don't have to worry about anything else. Now a quick example of xrange()."
   ]
  },
  {
   "cell_type": "code",
   "execution_count": 6,
   "metadata": {},
   "outputs": [
    {
     "name": "stdout",
     "output_type": "stream",
     "text": [
      "0\n",
      "1\n",
      "2\n",
      "3\n",
      "4\n",
      "5\n",
      "6\n",
      "7\n",
      "8\n",
      "9\n"
     ]
    }
   ],
   "source": [
    "for num in range(10):\n",
    "    print(num)"
   ]
  },
  {
   "cell_type": "code",
   "execution_count": 7,
   "metadata": {},
   "outputs": [
    {
     "ename": "NameError",
     "evalue": "name 'xrange' is not defined",
     "output_type": "error",
     "traceback": [
      "\u001b[0;31m---------------------------------------------------------------------------\u001b[0m",
      "\u001b[0;31mNameError\u001b[0m                                 Traceback (most recent call last)",
      "\u001b[1;32m/Users/florianpramme/Code/DigitecWorkshop/Anweisungen/7-range().ipynb Zelle 10\u001b[0m in \u001b[0;36m<cell line: 3>\u001b[0;34m()\u001b[0m\n\u001b[1;32m      <a href='vscode-notebook-cell:/Users/florianpramme/Code/DigitecWorkshop/Anweisungen/7-range%28%29.ipynb#ch0000009?line=0'>1</a>\u001b[0m \u001b[39m# In Python 2 bietet sich xrange() an\u001b[39;00m\n\u001b[1;32m      <a href='vscode-notebook-cell:/Users/florianpramme/Code/DigitecWorkshop/Anweisungen/7-range%28%29.ipynb#ch0000009?line=1'>2</a>\u001b[0m \u001b[39m# Der Code funktioniert so nicht in Python 3\u001b[39;00m\n\u001b[0;32m----> <a href='vscode-notebook-cell:/Users/florianpramme/Code/DigitecWorkshop/Anweisungen/7-range%28%29.ipynb#ch0000009?line=2'>3</a>\u001b[0m \u001b[39mfor\u001b[39;00m num \u001b[39min\u001b[39;00m xrange(\u001b[39m10\u001b[39m):\n\u001b[1;32m      <a href='vscode-notebook-cell:/Users/florianpramme/Code/DigitecWorkshop/Anweisungen/7-range%28%29.ipynb#ch0000009?line=3'>4</a>\u001b[0m     \u001b[39mprint\u001b[39m(num)\n",
      "\u001b[0;31mNameError\u001b[0m: name 'xrange' is not defined"
     ]
    }
   ],
   "source": [
    "# In Python 2 bietet sich xrange() an\n",
    "# Der Code funktioniert so nicht in Python 3\n",
    "for num in xrange(10):\n",
    "    print(num)"
   ]
  },
  {
   "cell_type": "markdown",
   "metadata": {},
   "source": [
    "We will examine errors in more detail in a later lesson. However, it should already be noted that this error tells us that `xrange` is not defined. This is because we are using Python 3.\n",
    "\n",
    "The important takeaway here is that if you want to use range() but don't need to store the result in a list, you're better off using xrange() in Python 2. In Python 3, you can use range() in any case.\n",
    "\n",
    "You should now understand how to use range() in both Python versions."
   ]
  }
 ],
 "metadata": {
  "kernelspec": {
   "display_name": "Python 3 (ipykernel)",
   "language": "python",
   "name": "python3"
  },
  "language_info": {
   "codemirror_mode": {
    "name": "ipython",
    "version": 3
   },
   "file_extension": ".py",
   "mimetype": "text/x-python",
   "name": "python",
   "nbconvert_exporter": "python",
   "pygments_lexer": "ipython3",
   "version": "3.12.4"
  },
  "vscode": {
   "interpreter": {
    "hash": "b6f32b27ef9c6af4eadce4d8c206da46e02e62476a2cc472d572e1930ebdcb4b"
   }
  }
 },
 "nbformat": 4,
 "nbformat_minor": 4
}
