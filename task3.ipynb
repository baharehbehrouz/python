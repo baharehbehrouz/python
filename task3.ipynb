{
 "cells": [
  {
   "cell_type": "markdown",
   "id": "41063d6e-cba6-4846-9c58-33b40805f325",
   "metadata": {},
   "source": [
    " تمرین ۱: استخراج کلمات یکتا از یک متن\r\n",
    "صورت سوال:\r\n",
    "برنامه‌ای بنویسید که از کاربر یک جمله بگیرد، سپس:\r\n",
    "\r\n",
    "کلماتی که تکراری نیستند را پیدا کند.\r\n",
    "\r\n",
    "آن‌ها را بر اساس طول کلمه مرتب کند.\r\n",
    "\r\n",
    "فقط کلماتی که طولشان بیشتر از ۳ است را نمایش دهد.\r\n"
   ]
  },
  {
   "cell_type": "code",
   "execution_count": null,
   "id": "00836dda-d1e6-444d-bf43-d1c4db8438fe",
   "metadata": {},
   "outputs": [],
   "source": []
  },
  {
   "attachments": {},
   "cell_type": "markdown",
   "id": "735060c2-99cc-4b44-9ddc-32457ed33c60",
   "metadata": {},
   "source": [
    ". تمرین ۲: شمارش و مرتب‌سازی حروف\r\n",
    "صورت سوال:\r\n",
    "برنامه‌ای بنویسید که از کاربر یک رشته بگیرد و:\r\n",
    "\r\n",
    "هر حرفی که در رشته وجود دارد را بشمارد.\r\n",
    "\r\n",
    "بر اساس تعداد تکرار از بیشترین به کمترین مرتب کند.\r\n",
    "\r\n",
    "حروفی که فقط یک بار آمده‌اند را حذف کند.\r\n",
    "nd{document}\r\n"
   ]
  },
  {
   "cell_type": "code",
   "execution_count": null,
   "id": "0dab6a88-6b10-411f-b456-edde1ab0ca4a",
   "metadata": {},
   "outputs": [],
   "source": []
  },
  {
   "cell_type": "markdown",
   "id": "bacea26f-f59c-4ffc-af8c-557dcd7d0cf0",
   "metadata": {},
   "source": [
    ". تمرین ۳: بازی حدس عدد\r\n",
    "صورت سوال:\r\n",
    "برنامه یک عدد تصادفی بین ۱ تا ۵۰ تولید کند.\r\n",
    "از کاربر بخواهد که حدس بزند.\r\n",
    "\r\n",
    "اگر عدد کمتر بود، بگوید \"عدد بزرگ‌تر است!\"\r\n",
    "\r\n",
    "اگر عدد بیشتر بود، بگوید \"عدد کوچک‌تر است!\"\r\n",
    "\r\n",
    "تا زمانی که عدد درست حدس زده نشده، ادامه دهد.\r\n",
    "\r\n"
   ]
  },
  {
   "cell_type": "code",
   "execution_count": null,
   "id": "90f8fc1c-863d-442e-bca4-fb295f84fe36",
   "metadata": {},
   "outputs": [],
   "source": []
  },
  {
   "cell_type": "markdown",
   "id": "fd2f67fb-e627-4c9e-97ff-d6aab087e191",
   "metadata": {},
   "source": [
    ". تمرین ۴: فیلتر کردن و چرخش لیست\r\n",
    "صورت سوال:\r\n",
    "از کاربر یک لیست از اعداد بگیرد.\r\n",
    "\r\n",
    "فقط اعداد زوج را نگه دارد.\r\n",
    "\r\n",
    "لیست را یک واحد به چپ بچرخاند.\r\n",
    "\r\n",
    "جمع اعداد جدید را نمایش دهد.\r\n",
    "\r\n",
    "\r\n"
   ]
  },
  {
   "cell_type": "code",
   "execution_count": null,
   "id": "56dcd16e-ef86-4186-91c2-d9ebbb989ccb",
   "metadata": {},
   "outputs": [],
   "source": []
  },
  {
   "cell_type": "markdown",
   "id": "517b31bd-3d33-4cc8-ab52-878cc9339004",
   "metadata": {},
   "source": [
    " تمرین ۵: برعکس کردن کلمات جمله\r\n",
    "صورت سوال:\r\n",
    "برنامه‌ای بنویسید که از کاربر یک جمله بگیرد و تمام کلمات آن را برعکس کند اما ترتیب کلمات را تغییر ندهد.\r\n",
    "\r\n"
   ]
  },
  {
   "cell_type": "markdown",
   "id": "293932c6-a5c3-4c20-bcf1-f739d21a6304",
   "metadata": {},
   "source": [
    " تمرین ۶: یافتن میانگین نمرات دانشجویان\r\n",
    "صورت سوال:\r\n",
    "از کاربر دو لیست بگیرد:\r\n",
    "\r\n",
    "لیست نام دانشجویان\r\n",
    "\r\n",
    "لیست نمرات هر دانشجو\r\n",
    "سپس نام یک دانشجو را دریافت کند و میانگین نمرات او را حساب کند.\r\n",
    "\r\n",
    "\r\n"
   ]
  },
  {
   "cell_type": "code",
   "execution_count": null,
   "id": "e5d94645-cc2e-4753-8686-4df159490013",
   "metadata": {},
   "outputs": [],
   "source": []
  }
 ],
 "metadata": {
  "kernelspec": {
   "display_name": "Python 3 (ipykernel)",
   "language": "python",
   "name": "python3"
  },
  "language_info": {
   "codemirror_mode": {
    "name": "ipython",
    "version": 3
   },
   "file_extension": ".py",
   "mimetype": "text/x-python",
   "name": "python",
   "nbconvert_exporter": "python",
   "pygments_lexer": "ipython3",
   "version": "3.11.4"
  }
 },
 "nbformat": 4,
 "nbformat_minor": 5
}
