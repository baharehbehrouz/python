{
 "cells": [
  {
   "cell_type": "code",
   "execution_count": null,
   "id": "f2c39db8",
   "metadata": {},
   "outputs": [],
   "source": [
    "شرط ها در پایتون"
   ]
  },
  {
   "cell_type": "code",
   "execution_count": null,
   "id": "4ca92d28",
   "metadata": {},
   "outputs": [],
   "source": [
    "numbers = [1, 2, 3, 4, 5]\n",
    "\n",
    "# بررسی اینکه آیا عدد 3 در لیست وجود دارد\n",
    "if 3 in numbers:\n",
    "    print(\"عدد 3 در لیست وجود دارد.\")\n",
    "else:\n",
    "    print(\"عدد 3 در لیست وجود ندارد.\")\n"
   ]
  },
  {
   "cell_type": "code",
   "execution_count": null,
   "id": "4698aefe",
   "metadata": {},
   "outputs": [],
   "source": [
    "numbers = [1, 2, 3, 4, 5]\n",
    "\n",
    "# بررسی اینکه آیا لیست دارای بیش از 3 عنصر است\n",
    "if len(numbers) > 3:\n",
    "    print(\"لیست دارای بیش از 3 عنصر است.\")\n",
    "else:\n",
    "    print(\"لیست دارای 3 یا کمتر از 3 عنصر است.\")\n"
   ]
  },
  {
   "cell_type": "code",
   "execution_count": null,
   "id": "0656121f",
   "metadata": {},
   "outputs": [],
   "source": [
    "numbers = (1, 2, 3, 4, 5)\n",
    "\n",
    "# بررسی اینکه آیا عدد 2 در تاپل وجود دارد\n",
    "if 2 in numbers:\n",
    "    print(\"عدد 2 در تاپل وجود دارد.\")\n",
    "else:\n",
    "    print(\"عدد 2 در تاپل وجود ندارد.\")\n"
   ]
  },
  {
   "cell_type": "code",
   "execution_count": null,
   "id": "fdce0edd",
   "metadata": {},
   "outputs": [],
   "source": [
    "numbers = (1, 2, 3, 4, 5)\n",
    "\n",
    "# بررسی اینکه آیا اولین عنصر تاپل عدد 1 است\n",
    "if numbers[0] == 1:\n",
    "    print(\"اولین عنصر تاپل عدد 1 است.\")\n",
    "else:\n",
    "    print(\"اولین عنصر تاپل عدد 1 نیست.\")\n"
   ]
  },
  {
   "cell_type": "code",
   "execution_count": null,
   "id": "b4157508",
   "metadata": {},
   "outputs": [],
   "source": [
    "students = {'Alice': 85, 'Bob': 70, 'Charlie': 90}\n",
    "\n",
    "# بررسی اینکه آیا کلید 'Alice' در دیکشنری وجود دارد\n",
    "if 'Alice' in students:\n",
    "    print(\"کلید 'Alice' در دیکشنری وجود دارد.\")\n",
    "else:\n",
    "    print(\"کلید 'Alice' در دیکشنری وجود ندارد.\")\n"
   ]
  },
  {
   "cell_type": "code",
   "execution_count": null,
   "id": "81411d03",
   "metadata": {},
   "outputs": [],
   "source": [
    "students = {'Alice': 85, 'Bob': 70, 'Charlie': 90}\n",
    "\n",
    "# بررسی اینکه آیا مقدار کلید 'Bob' بیشتر از 75 است\n",
    "if students['Bob'] > 75:\n",
    "    print(\"مقدار کلید 'Bob' بیشتر از 75 است.\")\n",
    "else:\n",
    "    print(\"مقدار کلید 'Bob' بیشتر از 75 نیست.\")\n"
   ]
  },
  {
   "cell_type": "code",
   "execution_count": null,
   "id": "bdba0ab7",
   "metadata": {},
   "outputs": [],
   "source": [
    "numbers = {1, 2, 3, 4, 5}\n",
    "\n",
    "# بررسی اینکه آیا عدد 4 در مجموعه وجود دارد\n",
    "if 4 in numbers:\n",
    "    print(\"عدد 4 در مجموعه وجود دارد.\")\n",
    "else:\n",
    "    print(\"عدد 4 در مجموعه وجود ندارد.\")\n"
   ]
  },
  {
   "cell_type": "code",
   "execution_count": null,
   "id": "20b340c7",
   "metadata": {},
   "outputs": [],
   "source": [
    "numbers = {1, 2, 3, 4, 5}\n",
    "\n",
    "# بررسی اینکه آیا مجموعه دارای بیش از 4 عنصر است\n",
    "if len(numbers) > 4:\n",
    "    print(\"مجموعه دارای بیش از 4 عنصر است.\")\n",
    "else:\n",
    "    print(\"مجموعه دارای 4 یا کمتر از 4 عنصر است.\")\n"
   ]
  },
  {
   "cell_type": "markdown",
   "id": "5a4a3df2",
   "metadata": {},
   "source": [
    "------------------------------شرط های تو در تو "
   ]
  },
  {
   "cell_type": "markdown",
   "id": "a67cca10",
   "metadata": {},
   "source": [
    "بررسی عدد مثبت، منفی یا صفر و سپس بررسی زوج یا فرد بودن آن\n"
   ]
  },
  {
   "cell_type": "code",
   "execution_count": null,
   "id": "b7433eba",
   "metadata": {},
   "outputs": [],
   "source": [
    "number = 15\n",
    "\n",
    "if number > 0:\n",
    "    print(\"عدد مثبت است.\")\n",
    "    if number % 2 == 0:\n",
    "        print(\"عدد زوج است.\")\n",
    "    else:\n",
    "        print(\"عدد فرد است.\")\n",
    "elif number < 0:\n",
    "    print(\"عدد منفی است.\")\n",
    "    if number % 2 == 0:\n",
    "        print(\"عدد زوج است.\")\n",
    "    else:\n",
    "        print(\"عدد فرد است.\")\n",
    "else:\n",
    "    print(\"عدد صفر است.\")\n"
   ]
  },
  {
   "cell_type": "markdown",
   "id": "efce2591",
   "metadata": {},
   "source": [
    "-------------------------\n",
    "بررسی سن و وضعیت کاربر"
   ]
  },
  {
   "cell_type": "code",
   "execution_count": null,
   "id": "aca473a5",
   "metadata": {},
   "outputs": [],
   "source": [
    "age = 25\n",
    "is_student = False\n",
    "\n",
    "if age < 18:\n",
    "    print(\"کاربر زیر سن قانونی است.\")\n",
    "elif age >= 18 and age <= 65:\n",
    "    print(\"کاربر در سن کار است.\")\n",
    "    if is_student:\n",
    "        print(\"کاربر دانشجو است.\")\n",
    "    else:\n",
    "        print(\"کاربر دانشجو نیست.\")\n",
    "else:\n",
    "    print(\"کاربر بازنشسته است.\")\n"
   ]
  },
  {
   "cell_type": "markdown",
   "id": "e60d0e29",
   "metadata": {},
   "source": [
    "--------\n",
    "شرط‌های تو در تو در ساختارهای داده\n",
    "بررسی وجود یک عنصر در لیست و سپس بررسی ویژگی‌های آن"
   ]
  },
  {
   "cell_type": "code",
   "execution_count": null,
   "id": "eaddb533",
   "metadata": {},
   "outputs": [],
   "source": [
    "fruits = [\"apple\", \"banana\", \"cherry\"]\n",
    "fruit_to_check = \"banana\"\n",
    "\n",
    "if fruit_to_check in fruits:\n",
    "    print(f\"{fruit_to_check} در لیست وجود دارد.\")\n",
    "    if len(fruit_to_check) > 5:\n",
    "        print(\"نام میوه بیش از 5 حرف دارد.\")\n",
    "    else:\n",
    "        print(\"نام میوه 5 حرف یا کمتر دارد.\")\n",
    "else:\n",
    "    print(f\"{fruit_to_check} در لیست وجود ندارد.\")\n"
   ]
  },
  {
   "cell_type": "markdown",
   "id": "dd0abc7b",
   "metadata": {},
   "source": [
    "\n",
    "-------------------\n",
    "بررسی وجود یک کلید در دیکشنری و سپس بررسی مقدار آن\n"
   ]
  },
  {
   "cell_type": "code",
   "execution_count": null,
   "id": "899e551f",
   "metadata": {},
   "outputs": [],
   "source": [
    "student = {\"name\": \"Alice\", \"age\": 25, \"grade\": \"A\"}\n",
    "key_to_check = \"age\"\n",
    "\n",
    "if key_to_check in student:\n",
    "    print(f\"کلید {key_to_check} در دیکشنری وجود دارد.\")\n",
    "    if student[key_to_check] > 20:\n",
    "        print(\"مقدار کلید بیش از 20 است.\")\n",
    "    else:\n",
    "        print(\"مقدار کلید 20 یا کمتر است.\")\n",
    "else:\n",
    "    print(f\"کلید {key_to_check} در دیکشنری وجود ندارد.\")\n"
   ]
  },
  {
   "cell_type": "markdown",
   "id": "dc22aebf",
   "metadata": {},
   "source": [
    "-------------------------\n",
    "مثال‌های عملی‌تر\n",
    "بررسی موجودی کالا و وضعیت انبار"
   ]
  },
  {
   "cell_type": "code",
   "execution_count": null,
   "id": "ce2ca10e",
   "metadata": {},
   "outputs": [],
   "source": [
    "inventory = {\n",
    "    \"apple\": {\"quantity\": 10, \"price\": 2.5},\n",
    "    \"banana\": {\"quantity\": 0, \"price\": 1.5},\n",
    "    \"cherry\": {\"quantity\": 20, \"price\": 3.0}\n",
    "}\n",
    "\n",
    "item_to_check = \"banana\"\n",
    "\n",
    "if item_to_check in inventory:\n",
    "    print(f\"{item_to_check} در انبار وجود دارد.\")\n",
    "    if inventory[item_to_check][\"quantity\"] > 0:\n",
    "        print(f\"موجودی {item_to_check}: {inventory[item_to_check]['quantity']} عدد\")\n",
    "    else:\n",
    "        print(f\"{item_to_check} در حال حاضر موجود نیست.\")\n",
    "else:\n",
    "    print(f\"{item_to_check} در انبار وجود ندارد.\")\n"
   ]
  },
  {
   "cell_type": "markdown",
   "id": "c4de3345",
   "metadata": {},
   "source": [
    "------------------------\n",
    "بررسی اطلاعات کاربر و سطح دسترسی\n"
   ]
  },
  {
   "cell_type": "code",
   "execution_count": null,
   "id": "f353c135",
   "metadata": {},
   "outputs": [],
   "source": [
    "users = {\n",
    "    \"Alice\": {\"role\": \"admin\", \"active\": True},\n",
    "    \"Bob\": {\"role\": \"user\", \"active\": False},\n",
    "    \"Charlie\": {\"role\": \"user\", \"active\": True}\n",
    "}\n",
    "\n",
    "username = \"Alice\"\n",
    "\n",
    "if username in users:\n",
    "    print(f\"کاربر {username} وجود دارد.\")\n",
    "    if users[username][\"active\"]:\n",
    "        print(f\"کاربر {username} فعال است.\")\n",
    "        if users[username][\"role\"] == \"admin\":\n",
    "            print(f\"کاربر {username} مدیر است.\")\n",
    "        else:\n",
    "            print(f\"کاربر {username} کاربر عادی است.\")\n",
    "    else:\n",
    "        print(f\"کاربر {username} غیرفعال است.\")\n",
    "else:\n",
    "    print(f\"کاربر {username} وجود ندارد.\")\n"
   ]
  },
  {
   "cell_type": "code",
   "execution_count": null,
   "id": "7cb8f788",
   "metadata": {},
   "outputs": [],
   "source": [
    "شرط‌های چندگانه (Multiple Conditions)"
   ]
  },
  {
   "cell_type": "code",
   "execution_count": null,
   "id": "06a6dd20",
   "metadata": {},
   "outputs": [],
   "source": [
    "age = 25\n",
    "is_student = True\n",
    "\n",
    "# بررسی اینکه آیا کاربر سن بین 18 تا 30 دارد و دانشجو است\n",
    "if age >= 18 and age <= 30 and is_student:\n",
    "    print(\"کاربر بین 18 تا 30 سال سن دارد و دانشجو است.\")\n",
    "else:\n",
    "    print(\"شرایط برآورده نشده است.\")\n"
   ]
  },
  {
   "cell_type": "code",
   "execution_count": null,
   "id": "10da99c3",
   "metadata": {},
   "outputs": [],
   "source": [
    "age = 25\n",
    "is_student = False\n",
    "\n",
    "# بررسی اینکه آیا کاربر سن بین 18 تا 30 دارد یا دانشجو است\n",
    "if age >= 18 and age <= 30 or is_student:\n",
    "    print(\"کاربر بین 18 تا 30 سال سن دارد یا دانشجو است.\")\n",
    "else:\n",
    "    print(\"شرایط برآورده نشده است.\")\n"
   ]
  },
  {
   "cell_type": "code",
   "execution_count": null,
   "id": "688213c1",
   "metadata": {},
   "outputs": [],
   "source": [
    "inventory = {\n",
    "    \"apple\": {\"quantity\": 10, \"price\": 2.5},\n",
    "    \"banana\": {\"quantity\": 0, \"price\": 1.5},\n",
    "    \"cherry\": {\"quantity\": 20, \"price\": 3.0}\n",
    "}\n",
    "\n",
    "item_to_check = \"apple\"\n",
    "max_price = 3.0\n",
    "\n",
    "# بررسی اینکه آیا کالا موجود است و قیمت آن کمتر یا مساوی با قیمت حداکثر است\n",
    "if item_to_check in inventory and inventory[item_to_check][\"quantity\"] > 0 and inventory[item_to_check][\"price\"] <= max_price:\n",
    "    print(f\"{item_to_check} موجود است و قیمت آن مناسب است.\")\n",
    "else:\n",
    "    print(f\"{item_to_check} موجود نیست یا قیمت آن بیشتر از {max_price} است.\")\n"
   ]
  },
  {
   "cell_type": "code",
   "execution_count": null,
   "id": "2aaee20c",
   "metadata": {},
   "outputs": [],
   "source": [
    "users = {\n",
    "    \"Alice\": {\"role\": \"admin\", \"active\": True},\n",
    "    \"Bob\": {\"role\": \"user\", \"active\": False},\n",
    "    \"Charlie\": {\"role\": \"user\", \"active\": True}\n",
    "}\n",
    "\n",
    "username = \"Bob\"\n",
    "\n",
    "# بررسی اینکه آیا کاربر فعال است و مدیر است یا نام کاربر 'Alice' است\n",
    "if username in users and users[username][\"active\"] and (users[username][\"role\"] == \"admin\" or username == \"Alice\"):\n",
    "    print(f\"کاربر {username} فعال و مدیر است یا نام کاربر 'Alice' است.\")\n",
    "else:\n",
    "    print(f\"شرایط برآورده نشده است.\")\n"
   ]
  },
  {
   "cell_type": "markdown",
   "id": "86e80077",
   "metadata": {},
   "source": [
    "---------------------\n",
    "بررسی اعتبار یک تراکنش بانکی\n"
   ]
  },
  {
   "cell_type": "code",
   "execution_count": null,
   "id": "f50c9f6e",
   "metadata": {},
   "outputs": [],
   "source": [
    "balance = 1000\n",
    "withdraw_amount = 500\n",
    "is_account_active = True\n",
    "\n",
    "# بررسی اینکه آیا موجودی حساب کافی است و حساب فعال است\n",
    "if balance >= withdraw_amount and is_account_active:\n",
    "    print(\"تراکنش قابل انجام است.\")\n",
    "else:\n",
    "    print(\"تراکنش قابل انجام نیست.\")\n"
   ]
  },
  {
   "cell_type": "markdown",
   "id": "112ead47",
   "metadata": {},
   "source": [
    "بررسی دمای هوا و وضعیت بارندگی\n"
   ]
  },
  {
   "cell_type": "code",
   "execution_count": null,
   "id": "1ea79fe0",
   "metadata": {},
   "outputs": [],
   "source": [
    "temperature = 20\n",
    "is_raining = False\n",
    "\n",
    "# بررسی اینکه آیا دما بین 15 تا 25 درجه است و هوا بارانی نیست\n",
    "if 15 <= temperature <= 25 and not is_raining:\n",
    "    print(\"هوا مناسب برای بیرون رفتن است.\")\n",
    "else:\n",
    "    print(\"هوا مناسب برای بیرون رفتن نیست.\")\n"
   ]
  },
  {
   "cell_type": "markdown",
   "id": "05b8bcf0",
   "metadata": {},
   "source": [
    "بهینه سازی شرط های پیچیده "
   ]
  },
  {
   "cell_type": "markdown",
   "id": "f6e40626",
   "metadata": {},
   "source": [
    "۱. استفاده از متغیرهای کمکی\n"
   ]
  },
  {
   "cell_type": "code",
   "execution_count": null,
   "id": "ea237e3a",
   "metadata": {},
   "outputs": [],
   "source": [
    "# به جای این\n",
    "if (a > 10 and b < 5) or (a > 10 and c > 15):\n",
    "    print(\"شرط برآورده شده است.\")\n",
    "\n",
    "# می‌توانید اینطور بنویسید\n",
    "condition_a = a > 10\n",
    "condition_b = b < 5\n",
    "condition_c = c > 15\n",
    "\n",
    "if condition_a and (condition_b or condition_c):\n",
    "    print(\"شرط برآورده شده است.\")\n"
   ]
  },
  {
   "cell_type": "markdown",
   "id": "610825b5",
   "metadata": {},
   "source": [
    "۲. استفاده از عملگرهای منطقی بهینه\n"
   ]
  },
  {
   "cell_type": "code",
   "execution_count": null,
   "id": "daddc46d",
   "metadata": {},
   "outputs": [],
   "source": [
    "# بهینه شده\n",
    "if a > 10 and b < 5:\n",
    "    # این قسمت فقط زمانی اجرا می‌شود که هر دو شرط بالا صحیح باشند\n",
    "    if c > 15:\n",
    "        print(\"شرط برآورده شده است.\")\n"
   ]
  },
  {
   "cell_type": "markdown",
   "id": "e339d6a2",
   "metadata": {},
   "source": [
    "۳. استفاده از ساختارهای داده مناسب\n"
   ]
  },
  {
   "cell_type": "code",
   "execution_count": null,
   "id": "f57ae249",
   "metadata": {},
   "outputs": [],
   "source": [
    "allowed_values = {10, 20, 30}\n",
    "\n",
    "if a in allowed_values:\n",
    "    print(\"a یک مقدار مجاز است.\")\n"
   ]
  },
  {
   "cell_type": "markdown",
   "id": "a00a53f1",
   "metadata": {},
   "source": [
    "۴. کاهش تکرار شرط‌ها\n"
   ]
  },
  {
   "cell_type": "code",
   "execution_count": null,
   "id": "69aedb26",
   "metadata": {},
   "outputs": [],
   "source": [
    "# قبل از بهینه‌سازی\n",
    "if (a > 10 and b < 5) or (a > 10 and c > 15):\n",
    "    print(\"شرط برآورده شده است.\")\n",
    "\n",
    "# بعد از بهینه‌سازی\n",
    "if a > 10 and (b < 5 or c > 15):\n",
    "    print(\"شرط برآورده شده است.\")\n"
   ]
  },
  {
   "cell_type": "markdown",
   "id": "eb1256d5",
   "metadata": {},
   "source": [
    "۵. استفاده از شرط‌های مرکب\n"
   ]
  },
  {
   "cell_type": "code",
   "execution_count": null,
   "id": "981e75ee",
   "metadata": {},
   "outputs": [],
   "source": [
    "# قبل از بهینه‌سازی\n",
    "if (a > 10 and b < 5) or (a > 10 and c > 15):\n",
    "    print(\"شرط برآورده شده است.\")\n",
    "\n",
    "# بعد از بهینه‌سازی\n",
    "if a > 10 and (b < 5 or c > 15):\n",
    "    print(\"شرط برآورده شده است.\")\n"
   ]
  },
  {
   "cell_type": "markdown",
   "id": "7450eded",
   "metadata": {},
   "source": [
    "۶. استفاده از شرط‌های تو در تو بهینه\n"
   ]
  },
  {
   "cell_type": "code",
   "execution_count": null,
   "id": "989070cd",
   "metadata": {},
   "outputs": [],
   "source": [
    "# بهینه نشده\n",
    "if condition_a:\n",
    "    if condition_b:\n",
    "        if condition_c:\n",
    "            print(\"تمام شرایط برآورده شده است.\")\n",
    "\n",
    "# بهینه شده\n",
    "if condition_c:\n",
    "    if condition_a and condition_b:\n",
    "        print(\"تمام شرایط برآورده شده است.\")\n"
   ]
  },
  {
   "cell_type": "markdown",
   "id": "b2e3f41a",
   "metadata": {},
   "source": [
    "\n",
    "---------------\n",
    "شرط های یک خطی "
   ]
  },
  {
   "cell_type": "markdown",
   "id": "da889944",
   "metadata": {},
   "source": [
    "۱. بررسی وضعیت یک عدد:"
   ]
  },
  {
   "cell_type": "code",
   "execution_count": null,
   "id": "ddf93af1",
   "metadata": {},
   "outputs": [],
   "source": [
    "x = 10\n",
    "\n",
    "result = \"مثبت\" if x > 0 else \"منفی یا صفر\"\n",
    "print(f\"عدد x {result} است.\")\n"
   ]
  },
  {
   "cell_type": "markdown",
   "id": "17c97872",
   "metadata": {},
   "source": [
    "۲. تشخیص عدد فرد یا زوج:"
   ]
  },
  {
   "cell_type": "code",
   "execution_count": null,
   "id": "9698b4cb",
   "metadata": {},
   "outputs": [],
   "source": [
    "number = 7\n",
    "\n",
    "result = \"فرد\" if number % 2 != 0 else \"زوج\"\n",
    "print(f\"عدد {number} یک عدد {result} است.\")\n"
   ]
  },
  {
   "cell_type": "markdown",
   "id": "46ebfbff",
   "metadata": {},
   "source": [
    "۳. تعیین رشته‌ی خوش‌آمدگویی بر اساس سن:\n"
   ]
  },
  {
   "cell_type": "code",
   "execution_count": null,
   "id": "ae5bec34",
   "metadata": {},
   "outputs": [],
   "source": [
    "age = 25\n",
    "\n",
    "welcome_message = \"خوش آمدید!\" if age >= 18 else \"شما زیرسن هستید.\"\n",
    "print(welcome_message)\n"
   ]
  },
  {
   "cell_type": "code",
   "execution_count": null,
   "id": "28508cbb",
   "metadata": {},
   "outputs": [],
   "source": [
    "۴. بررسی وجود یک عنصر در یک لیست:\n"
   ]
  },
  {
   "cell_type": "code",
   "execution_count": null,
   "id": "8b3d16c6",
   "metadata": {},
   "outputs": [],
   "source": [
    "fruits = [\"سیب\", \"موز\", \"گلابی\"]\n",
    "search_item = \"سیب\"\n",
    "\n",
    "result = \"در لیست موجود است\" if search_item in fruits else \"در لیست موجود نیست\"\n",
    "print(f\"میوه مورد نظر {result}.\")\n"
   ]
  },
  {
   "cell_type": "code",
   "execution_count": null,
   "id": "959263c7",
   "metadata": {},
   "outputs": [],
   "source": [
    "۵. بررسی اعتبار یک کاربر:\n"
   ]
  },
  {
   "cell_type": "code",
   "execution_count": null,
   "id": "2ab4265a",
   "metadata": {},
   "outputs": [],
   "source": [
    "is_logged_in = True\n",
    "\n",
    "access_message = \"شما وارد شده‌اید\" if is_logged_in else \"لطفا وارد شوید.\"\n",
    "print(access_message)\n"
   ]
  },
  {
   "cell_type": "code",
   "execution_count": null,
   "id": "d0d4425e",
   "metadata": {},
   "outputs": [],
   "source": [
    "۶. تشخیص وضعیت سفارش:\n"
   ]
  },
  {
   "cell_type": "code",
   "execution_count": null,
   "id": "edbda012",
   "metadata": {},
   "outputs": [],
   "source": [
    "order_status = \"در انتظار پرداخت\"\n",
    "\n",
    "action_required = \"پرداخت\" if order_status == \"در انتظار پرداخت\" else \"پیگیری\"\n",
    "print(f\"برای این سفارش عملیات {action_required} لازم است.\")\n"
   ]
  },
  {
   "cell_type": "code",
   "execution_count": null,
   "id": "50d10e18",
   "metadata": {},
   "outputs": [],
   "source": [
    "۷. تشخیص نوع مثلث بر اساس طول‌های اضلاع:\n"
   ]
  },
  {
   "cell_type": "code",
   "execution_count": null,
   "id": "7114f0c2",
   "metadata": {},
   "outputs": [],
   "source": [
    "a, b, c = 3, 4, 5\n",
    "\n",
    "triangle_type = \"مثلث متساوی الساقین\" if a == b == c else \"مثلث مختلف الاضلاع\"\n",
    "print(f\"این یک {triangle_type} است.\")\n"
   ]
  },
  {
   "cell_type": "code",
   "execution_count": null,
   "id": "954dbe4b",
   "metadata": {},
   "outputs": [],
   "source": [
    "۸. انتخاب بین دو عملیات مختلف:\n"
   ]
  },
  {
   "cell_type": "code",
   "execution_count": null,
   "id": "cb978c84",
   "metadata": {},
   "outputs": [],
   "source": [
    "is_authenticated = True\n",
    "\n",
    "action = \"مشاهده\" if is_authenticated else \"ورود\"\n",
    "print(f\"برای ادامه، لطفاً {action} کنید.\")\n"
   ]
  },
  {
   "cell_type": "code",
   "execution_count": null,
   "id": "5dd7cec5",
   "metadata": {},
   "outputs": [],
   "source": []
  }
 ],
 "metadata": {
  "kernelspec": {
   "display_name": "Python 3 (ipykernel)",
   "language": "python",
   "name": "python3"
  },
  "language_info": {
   "codemirror_mode": {
    "name": "ipython",
    "version": 3
   },
   "file_extension": ".py",
   "mimetype": "text/x-python",
   "name": "python",
   "nbconvert_exporter": "python",
   "pygments_lexer": "ipython3",
   "version": "3.11.4"
  }
 },
 "nbformat": 4,
 "nbformat_minor": 5
}
